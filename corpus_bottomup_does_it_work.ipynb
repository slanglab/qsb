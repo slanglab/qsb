{
 "cells": [
  {
   "cell_type": "code",
   "execution_count": 5,
   "metadata": {},
   "outputs": [
    {
     "name": "stdout",
     "output_type": "stream",
     "text": [
      "106\n"
     ]
    }
   ],
   "source": [
    "# you might miss a few of these if Q is not in the compression\n",
    "from bottom_up.all import *\n",
    "\n",
    "import random\n",
    "import copy\n",
    "\n",
    "def pick_at_random(l):\n",
    "    return random.sample(l, 1)[0]\n",
    "     \n",
    "def get_dependents_and_governors(vx, sentence, tree):\n",
    "    '''add a vertexes children to a queue, sort by prob'''\n",
    "    children = [d for d in sentence['basicDependencies'] if d[\"governor\"] == vx]\n",
    "    governor = [d for d in sentence['basicDependencies'] if d[\"dependent\"] == vx][0]\n",
    "    out = []\n",
    "    for c in children:\n",
    "        if c[\"dependent\"] not in tree:\n",
    "            out.append(c[\"dependent\"])\n",
    "    if governor[\"governor\"] not in tree:\n",
    "        out.append(governor[\"governor\"])\n",
    "    return out\n",
    "\n",
    "def oracle_path(sentence, pi = pick_at_random):\n",
    "    T = {i for i in sentence[\"q\"]}\n",
    "    F = set()\n",
    "    \n",
    "    # init frontier\n",
    "    for v in T:\n",
    "        for i in get_dependents_and_governors(v, sentence, T):\n",
    "            F.add(i)\n",
    "    path = []\n",
    "    while len(F) > 0:\n",
    "        v = pi(F)\n",
    "        if v in sentence[\"compression_indexes\"]:\n",
    "            for i in get_dependents_and_governors(v, sentence, T):\n",
    "                F.add(i)\n",
    "            path.append((T, v, 1))\n",
    "            T.add(v)\n",
    "        path.append((copy.deepcopy(T), v, 0))\n",
    "        F.remove(v)\n",
    "    \n",
    "    assert T == set(sentence[\"compression_indexes\"])\n",
    "        \n",
    "    return path\n",
    "\n",
    "if __name__ == \"__main__\":\n",
    "\n",
    "    import pickle\n",
    "    dev = [json.loads(_) for _ in open(\"dev.jsonl\")]\n",
    "\n",
    "    paths = []\n",
    "    \n",
    "    failures = 0\n",
    "    for d in dev:\n",
    "        try:\n",
    "            p =  oracle_path(sentence=d, pi=pick_at_random)\n",
    "            paths.append(p)\n",
    "        except:\n",
    "            failures += 1\n",
    "\n",
    "    print failures\n",
    "    with open(\"/tmp/paths.p\", \"wb\") as of:\n",
    "        pickle.dump(paths, of)"
   ]
  }
 ],
 "metadata": {
  "kernelspec": {
   "display_name": "Python 2",
   "language": "python",
   "name": "python2"
  },
  "language_info": {
   "codemirror_mode": {
    "name": "ipython",
    "version": 2
   },
   "file_extension": ".py",
   "mimetype": "text/x-python",
   "name": "python",
   "nbconvert_exporter": "python",
   "pygments_lexer": "ipython2",
   "version": "2.7.10"
  }
 },
 "nbformat": 4,
 "nbformat_minor": 2
}
