{
 "cells": [
  {
   "cell_type": "code",
   "execution_count": 3,
   "metadata": {},
   "outputs": [],
   "source": [
    "import json \n",
    "import random\n",
    "from sklearn.metrics import f1_score\n",
    "from code.printers import pretty_print_conl\n",
    "from sklearn.metrics import f1_score\n",
    "from __future__ import division\n",
    "from code.treeops import bfs\n",
    "lns = [json.loads(_) for _ in open(\"dev.jsonl\")]"
   ]
  },
  {
   "cell_type": "code",
   "execution_count": 4,
   "metadata": {},
   "outputs": [],
   "source": [
    "def heuristic_extract(jdoc):\n",
    "    '''\n",
    "    return the lowest vertex in the tree that contains the query terms\n",
    "    '''\n",
    "    from_root = [_['dependent'] for _ in jdoc[\"basicDependencies\"] if _['governor'] == 0][0]\n",
    "    best = from_root\n",
    "    def tok_is_verb(vertex):\n",
    "        gov = [o[\"pos\"][0] for o in jdoc[\"tokens\"] if o[\"index\"] == v][0]\n",
    "        return gov[0].lower() == \"v\"\n",
    "    for v in get_walk_from_root(jdoc):  # bfs\n",
    "        children = dfs(g=jdoc, hop_s=v, D=[])\n",
    "        # the verb heuristic is b/c the min governing tree is often just Q itself\n",
    "        if all(i in children for i in jdoc[\"q\"]) and tok_is_verb(v):\n",
    "            best = v\n",
    "    return best\n",
    "\n",
    "def get_path_to_root(v, jdoc):\n",
    "    def get_parent(v):\n",
    "        for _ in jdoc[\"basicDependencies\"]:\n",
    "            if _[\"dependent\"] == v:\n",
    "                return _[\"governor\"]\n",
    "        return _[\"governor\"]\n",
    "    out = [v]\n",
    "    parent = get_parent(v)\n",
    "    while parent != 0:\n",
    "        v = parent\n",
    "        out.append(parent)\n",
    "        parent = get_parent(v)\n",
    "    return out\n",
    "\n",
    "def min_tree_to_root(jdoc):\n",
    "    return {i for q in jdoc[\"q\"] for i in get_path_to_root(q, jdoc)}\n",
    "\n",
    "def len_tree(tree, jdoc):\n",
    "    return sum(len(o['word']) for o in jdoc[\"tokens\"] if o[\"index\"] in tree)\n",
    "\n",
    "\n",
    "def get_options(tree, jdoc):\n",
    "    optionsd = {o[\"dependent\"] for o in jdoc[\"basicDependencies\"] if o[\"governor\"] in tree and o[\"dependent\"] not in tree}\n",
    "    optionsg = {o[\"governor\"] for o in jdoc[\"basicDependencies\"] if o[\"dependent\"] in tree and o[\"governor\"] not in tree}\n",
    "    return optionsd | optionsg\n",
    "    \n",
    "def append_at_random(tree, jdoc):\n",
    "    s = get_options(tree, jdoc)\n",
    "    added = random.sample(s, 1)[0]\n",
    "    assert added not in tree\n",
    "    tree.add(added)\n",
    "\n",
    "def bottom_up_compression_random(jdoc):\n",
    "    tree = min_tree_to_root(jdoc=jdoc)\n",
    "    while len_tree(tree=tree, jdoc=jdoc) < jdoc[\"r\"]:\n",
    "        try:\n",
    "            append_at_random(tree, jdoc)\n",
    "        except ValueError: # it is possible to back into a corner where there are no V left to add.\n",
    "                           # in these cases, you cant make compression longer and should just stop\n",
    "            return tree\n",
    "    return tree\n",
    "\n",
    "def print_gold(jdoc):\n",
    "    gold = jdoc[\"compression_indexes\"]\n",
    "    print \" \".join([_[\"word\"] for _ in jdoc[\"tokens\"] if _[\"index\"] in gold])\n",
    "\n",
    "def print_tree(tree, jdoc):\n",
    "    tk = [_[\"word\"] for _ in jdoc[\"tokens\"] if _[\"index\"] in tree]\n",
    "    print \" \".join(tk)\n",
    "    \n",
    "def get_f1(predicted, jdoc):\n",
    "    original_ixs = [_[\"index\"] for _ in jdoc[\"tokens\"]]\n",
    "    y_true = [_ in jdoc['compression_indexes'] for _ in original_ixs]\n",
    "    y_pred = [_ in predicted for _ in original_ixs]\n",
    "    return f1_score(y_true=y_true, y_pred=y_pred)\n",
    "\n"
   ]
  },
  {
   "cell_type": "code",
   "execution_count": 6,
   "metadata": {},
   "outputs": [
    {
     "data": {
      "text/plain": [
       "0.54545454545454541"
      ]
     },
     "execution_count": 6,
     "metadata": {},
     "output_type": "execute_result"
    }
   ],
   "source": [
    "tot = 0\n",
    "for sentence in lns:\n",
    "    predicted = bottom_up_compression_random(sentence)\n",
    "    tot += get_f1(predicted, sentence)\n",
    "tot/len(lns)\n",
    "get_f1(predicted, sentence)"
   ]
  },
  {
   "cell_type": "code",
   "execution_count": 8,
   "metadata": {},
   "outputs": [],
   "source": [
    "train = [json.loads(_) for _ in open(\"mini.train.jsonl\")]"
   ]
  },
  {
   "cell_type": "code",
   "execution_count": 9,
   "metadata": {},
   "outputs": [
    {
     "name": "stdout",
     "output_type": "stream",
     "text": [
      "{u'cc': 0.0299625468164794, u'nmod:tmod': 0.02247191011235955, u'compound:prt': 0.003745318352059925, u'nsubjpass': 0.011235955056179775, u'conj': 0.0299625468164794, u'dobj': 0.04119850187265917, u'neg': 0.00749063670411985, u'mark': 0.003745318352059925, u'auxpass': 0.00749063670411985, u'advcl': 0.018726591760299626, u'aux': 0.03745318352059925, u'parataxis': 0.0149812734082397, u'xcomp': 0.0299625468164794, u'nsubj': 0.09363295880149813, u'nummod': 0.00749063670411985, u'advmod': 0.018726591760299626, u'punct': 0.27340823970037453, u'compound': 0.06741573033707865, u'ccomp': 0.018726591760299626, u'nmod:poss': 0.0149812734082397, u'case': 0.018726591760299626, u'cop': 0.011235955056179775, u'dep': 0.018726591760299626, u'appos': 0.00749063670411985, u'det': 0.0299625468164794, u'nmod': 0.08239700374531835, u'amod': 0.0299625468164794, u'acl:relcl': 0.02247191011235955, u'root': 0.003745318352059925, u'acl': 0.02247191011235955}\n"
     ]
    }
   ],
   "source": [
    "from collections import defaultdict\n",
    "\n",
    "dep_counter = defaultdict(list)\n",
    "\n",
    "for _ in train:\n",
    "    toks = [i for i in _[\"tokens\"] if i[\"index\"] in _[\"compression_indexes\"] + [0]]\n",
    "    _[\"tokens\"] = toks\n",
    "    #print len(toks)\n",
    "    for t in _[\"tokens\"]:\n",
    "        gov = [d[\"dep\"] for d in _[\"basicDependencies\"] if d[\"dependent\"] == t[\"index\"]]\n",
    "        assert len(gov) == 1\n",
    "        gov = gov[0]\n",
    "        dep = [d[\"dep\"] for d in _[\"basicDependencies\"] if d[\"governor\"] == t[\"index\"]]\n",
    "        for d in dep:\n",
    "            dep_counter[gov].append(d)\n",
    "\n",
    "from collections import Counter\n",
    "\n",
    "dep_probs = defaultdict()\n",
    "for d in dep_counter:\n",
    "    c = Counter(dep_counter[d])\n",
    "    c = {k:v/sum(c.values()) for k,v in c.items()}\n",
    "    dep_probs[d] = c\n",
    "    \n",
    "print dep_probs['root']"
   ]
  },
  {
   "cell_type": "code",
   "execution_count": 44,
   "metadata": {},
   "outputs": [
    {
     "name": "stdout",
     "output_type": "stream",
     "text": [
      "adding 1\n",
      "adding 3\n",
      "adding 6\n",
      "adding 5\n",
      "adding 7\n",
      "adding 12\n",
      "deleting 5\n",
      "deleting 3\n",
      "deleting 7\n",
      "adding 8\n",
      "adding 9\n",
      "adding 10\n",
      "adding 11\n",
      "adding 13\n",
      "deleting 12\n",
      "deleting 8\n",
      "adding 15\n",
      "deleting 13\n",
      "deleting 9\n",
      "deleting 1\n",
      "adding 14\n",
      "adding 18\n",
      "deleting 15\n",
      "adding 16\n",
      "adding 17\n",
      "adding 19\n",
      "deleting 18\n",
      "deleting 16\n",
      "deleting 14\n",
      "adding 21\n"
     ]
    },
    {
     "ename": "KeyError",
     "evalue": "u'advcl'",
     "output_type": "error",
     "traceback": [
      "\u001b[0;31m---------------------------------------------------------------------------\u001b[0m",
      "\u001b[0;31mKeyError\u001b[0m                                  Traceback (most recent call last)",
      "\u001b[0;32m<ipython-input-44-5b22f06266da>\u001b[0m in \u001b[0;36m<module>\u001b[0;34m()\u001b[0m\n\u001b[1;32m     28\u001b[0m     \u001b[0mnew_vx\u001b[0m \u001b[0;34m=\u001b[0m \u001b[0mq_by_prob\u001b[0m\u001b[0;34m[\u001b[0m\u001b[0;36m0\u001b[0m\u001b[0;34m]\u001b[0m\u001b[0;34m[\u001b[0m\u001b[0;34m\"dependent\"\u001b[0m\u001b[0;34m]\u001b[0m\u001b[0;34m\u001b[0m\u001b[0m\n\u001b[1;32m     29\u001b[0m     \u001b[0mtree\u001b[0m\u001b[0;34m.\u001b[0m\u001b[0madd\u001b[0m\u001b[0;34m(\u001b[0m\u001b[0mnew_vx\u001b[0m\u001b[0;34m)\u001b[0m\u001b[0;34m\u001b[0m\u001b[0m\n\u001b[0;32m---> 30\u001b[0;31m     \u001b[0madd_children_to_q\u001b[0m\u001b[0;34m(\u001b[0m\u001b[0mnew_vx\u001b[0m\u001b[0;34m,\u001b[0m \u001b[0mq_by_prob\u001b[0m\u001b[0;34m,\u001b[0m \u001b[0msentence\u001b[0m\u001b[0;34m)\u001b[0m\u001b[0;34m\u001b[0m\u001b[0m\n\u001b[0m\u001b[1;32m     31\u001b[0m     \u001b[0mremove_from_q\u001b[0m\u001b[0;34m(\u001b[0m\u001b[0mnew_vx\u001b[0m\u001b[0;34m,\u001b[0m \u001b[0mq_by_prob\u001b[0m\u001b[0;34m,\u001b[0m \u001b[0msentence\u001b[0m\u001b[0;34m)\u001b[0m\u001b[0;34m\u001b[0m\u001b[0m\n",
      "\u001b[0;32m<ipython-input-44-5b22f06266da>\u001b[0m in \u001b[0;36madd_children_to_q\u001b[0;34m(vx, q, sentence)\u001b[0m\n\u001b[1;32m      9\u001b[0m     \u001b[0;32mfor\u001b[0m \u001b[0mc\u001b[0m \u001b[0;32min\u001b[0m \u001b[0mchildren\u001b[0m\u001b[0;34m:\u001b[0m\u001b[0;34m\u001b[0m\u001b[0m\n\u001b[1;32m     10\u001b[0m         \u001b[0;32mprint\u001b[0m \u001b[0;34m\"adding\"\u001b[0m\u001b[0;34m,\u001b[0m \u001b[0mc\u001b[0m\u001b[0;34m[\u001b[0m\u001b[0;34m\"dependent\"\u001b[0m\u001b[0;34m]\u001b[0m\u001b[0;34m\u001b[0m\u001b[0m\n\u001b[0;32m---> 11\u001b[0;31m         \u001b[0mc\u001b[0m\u001b[0;34m[\u001b[0m\u001b[0;34m\"prob\"\u001b[0m\u001b[0;34m]\u001b[0m \u001b[0;34m=\u001b[0m \u001b[0mdep_probs\u001b[0m\u001b[0;34m[\u001b[0m\u001b[0mgovernor\u001b[0m\u001b[0;34m[\u001b[0m\u001b[0;34m\"dep\"\u001b[0m\u001b[0;34m]\u001b[0m\u001b[0;34m]\u001b[0m\u001b[0;34m[\u001b[0m\u001b[0mc\u001b[0m\u001b[0;34m[\u001b[0m\u001b[0;34m\"dep\"\u001b[0m\u001b[0;34m]\u001b[0m\u001b[0;34m]\u001b[0m\u001b[0;34m\u001b[0m\u001b[0m\n\u001b[0m\u001b[1;32m     12\u001b[0m         \u001b[0mq\u001b[0m\u001b[0;34m.\u001b[0m\u001b[0mappend\u001b[0m\u001b[0;34m(\u001b[0m\u001b[0mc\u001b[0m\u001b[0;34m)\u001b[0m\u001b[0;34m\u001b[0m\u001b[0m\n\u001b[1;32m     13\u001b[0m     \u001b[0mq\u001b[0m\u001b[0;34m.\u001b[0m\u001b[0msort\u001b[0m\u001b[0;34m(\u001b[0m\u001b[0mkey\u001b[0m\u001b[0;34m=\u001b[0m\u001b[0;32mlambda\u001b[0m \u001b[0mx\u001b[0m\u001b[0;34m:\u001b[0m\u001b[0mx\u001b[0m\u001b[0;34m[\u001b[0m\u001b[0;34m\"prob\"\u001b[0m\u001b[0;34m]\u001b[0m\u001b[0;34m,\u001b[0m \u001b[0mreverse\u001b[0m\u001b[0;34m=\u001b[0m\u001b[0mTrue\u001b[0m\u001b[0;34m)\u001b[0m\u001b[0;34m\u001b[0m\u001b[0m\n",
      "\u001b[0;31mKeyError\u001b[0m: u'advcl'"
     ]
    }
   ],
   "source": [
    "sentence = train[0] \n",
    "tree = min_tree_to_root(jdoc=sentence)\n",
    "q_by_prob = []\n",
    "\n",
    "def add_children_to_q(vx, q, sentence):\n",
    "    '''add a vertexes children to a queue, sort by prob'''\n",
    "    children = [d for d in sentence['basicDependencies'] if d[\"governor\"] == vx if d[\"dep\"] not in [\"punct\"]]\n",
    "    governor = [d for d in sentence['basicDependencies'] if d[\"dependent\"] == vx][0]\n",
    "    for c in children:\n",
    "        print \"adding\", c[\"dependent\"]\n",
    "        c[\"prob\"] = dep_probs[governor[\"dep\"]][c[\"dep\"]]\n",
    "        q.append(c)\n",
    "    q.sort(key=lambda x:x[\"prob\"], reverse=True)\n",
    "\n",
    "def remove_from_q(vx, Q, sentence):\n",
    "    '''add a vertexes children to a queue, sort by prob'''\n",
    "    print \"deleting {}\".format(vx)\n",
    "    for ino, i in enumerate(Q):\n",
    "        if i[\"dependent\"] == vx:\n",
    "            del Q[ino]\n",
    "            break\n",
    "\n",
    "for item in tree:\n",
    "    add_children_to_q(item, q_by_prob, sentence)\n",
    "\n",
    "\n",
    "while len_tree(tree, sentence) < sentence[\"r\"]:\n",
    "    new_vx = q_by_prob[0][\"dependent\"]\n",
    "    tree.add(new_vx)\n",
    "    add_children_to_q(new_vx, q_by_prob, sentence)\n",
    "    remove_from_q(new_vx, q_by_prob, sentence)"
   ]
  },
  {
   "cell_type": "code",
   "execution_count": 29,
   "metadata": {},
   "outputs": [
    {
     "name": "stdout",
     "output_type": "stream",
     "text": [
      "5\n",
      "deleting 5\n"
     ]
    }
   ],
   "source": [
    "print q_by_prob[0][\"dependent\"]\n",
    "tree.add(q_by_prob[0][\"dependent\"])\n",
    "add_children_to_q(q_by_prob[0][\"dependent\"], q_by_prob, sentence)\n",
    "remove_from_q(q_by_prob[0][\"dependent\"], q_by_prob, sentence)"
   ]
  },
  {
   "cell_type": "code",
   "execution_count": 30,
   "metadata": {},
   "outputs": [
    {
     "name": "stdout",
     "output_type": "stream",
     "text": [
      "3\n",
      "deleting 3\n"
     ]
    }
   ],
   "source": [
    "print q_by_prob[0][\"dependent\"]\n",
    "tree.add(q_by_prob[0][\"dependent\"])\n",
    "add_children_to_q(q_by_prob[0][\"dependent\"], q_by_prob, sentence)\n",
    "remove_from_q(q_by_prob[0][\"dependent\"], q_by_prob, sentence)"
   ]
  },
  {
   "cell_type": "code",
   "execution_count": 31,
   "metadata": {},
   "outputs": [
    {
     "name": "stdout",
     "output_type": "stream",
     "text": [
      "7\n",
      "deleting 7\n"
     ]
    }
   ],
   "source": [
    "print q_by_prob[0][\"dependent\"]\n",
    "tree.add(q_by_prob[0][\"dependent\"])\n",
    "add_children_to_q(q_by_prob[0][\"dependent\"], q_by_prob, sentence)\n",
    "remove_from_q(q_by_prob[0][\"dependent\"], q_by_prob, sentence)"
   ]
  },
  {
   "cell_type": "code",
   "execution_count": 32,
   "metadata": {},
   "outputs": [
    {
     "data": {
      "text/plain": [
       "[{u'dep': u'advcl',\n",
       "  u'dependent': 12,\n",
       "  u'dependentGloss': u'find',\n",
       "  u'governor': 6,\n",
       "  u'governorGloss': u'pities',\n",
       "  'prob': 0.039495289949010456},\n",
       " {u'dep': u'nmod:tmod',\n",
       "  u'dependent': 1,\n",
       "  u'dependentGloss': u'Today',\n",
       "  u'governor': 4,\n",
       "  u'governorGloss': u'said',\n",
       "  'prob': 0.03129653529236573},\n",
       " {u'dep': u'ccomp',\n",
       "  u'dependent': 6,\n",
       "  u'dependentGloss': u'pities',\n",
       "  u'governor': 4,\n",
       "  u'governorGloss': u'said',\n",
       "  'prob': 0.02089744862503723}]"
      ]
     },
     "execution_count": 32,
     "metadata": {},
     "output_type": "execute_result"
    }
   ],
   "source": [
    "q_by_prob"
   ]
  },
  {
   "cell_type": "code",
   "execution_count": 41,
   "metadata": {},
   "outputs": [
    {
     "name": "stdout",
     "output_type": "stream",
     "text": [
      "[{u'dependentGloss': u'find', u'dep': u'advcl', u'governorGloss': u'pities', u'governor': 6, u'dependent': 12, 'prob': 0.039495289949010456}, {u'dependentGloss': u'Today', u'dep': u'nmod:tmod', u'governorGloss': u'said', u'governor': 4, u'dependent': 1, 'prob': 0.03129653529236573}, {u'dependentGloss': u'pities', u'dep': u'ccomp', u'governorGloss': u'said', u'governor': 4, u'dependent': 6, 'prob': 0.02089744862503723}]\n",
      "adding 8\n",
      "adding 9\n",
      "adding 10\n",
      "adding 11\n",
      "adding 13\n",
      "deleting 12\n"
     ]
    }
   ],
   "source": [
    "print q_by_prob#[0][\"dependent\"]\n",
    "new_vx = q_by_prob[0][\"dependent\"]\n",
    "tree.add(new_vx)\n",
    "add_children_to_q(new_vx, q_by_prob, sentence)\n",
    "remove_from_q(new_vx, q_by_prob, sentence)"
   ]
  },
  {
   "cell_type": "code",
   "execution_count": 39,
   "metadata": {},
   "outputs": [
    {
     "name": "stdout",
     "output_type": "stream",
     "text": [
      "1\tToday\t<-nmod:tmod-\tsaid\n",
      "2\t,\t<-punct-\tsaid\n",
      "3\tButler\t<-nsubj-\tsaid\n",
      "4\tsaid\t<-ROOT-\tROOT\n",
      "5\the\t<-nsubj-\tpities\n",
      "6\tpities\t<-ccomp-\tsaid\n",
      "7\tFavre\t<-dobj-\tpities\n",
      "8\tbecause\t<-mark-\tfind\n",
      "9\the\t<-nsubj-\tfind\n",
      "10\tca\t<-aux-\tfind\n",
      "11\tn't\t<-neg-\tfind\n",
      "12\tfind\t<-advcl-\tpities\n",
      "13\tanything\t<-dobj-\tfind\n",
      "14\tto\t<-mark-\tdo\n",
      "15\tdo\t<-acl-\tanything\n",
      "16\twith\t<-case-\tlife\n",
      "17\this\t<-nmod:poss-\tlife\n",
      "18\tlife\t<-nmod-\tdo\n",
      "19\tother\t<-amod-\tlife\n",
      "20\tthan\t<-mark-\tplay\n",
      "21\tplay\t<-advcl-\tother\n",
      "22\tfootball\t<-dobj-\tplay\n",
      "23\t.\t<-punct-\tsaid\n"
     ]
    }
   ],
   "source": [
    "children = [d for d in sentence['basicDependencies'] if d[\"governor\"] == 12 if d[\"dep\"] not in [\"punct\"]]\n",
    "children, tree\n",
    "pretty_print_conl(sentence)"
   ]
  }
 ],
 "metadata": {
  "kernelspec": {
   "display_name": "Python 2",
   "language": "python",
   "name": "python2"
  },
  "language_info": {
   "codemirror_mode": {
    "name": "ipython",
    "version": 2
   },
   "file_extension": ".py",
   "mimetype": "text/x-python",
   "name": "python",
   "nbconvert_exporter": "python",
   "pygments_lexer": "ipython2",
   "version": "2.7.10"
  }
 },
 "nbformat": 4,
 "nbformat_minor": 2
}
