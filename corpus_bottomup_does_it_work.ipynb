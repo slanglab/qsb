{
 "cells": [
  {
   "cell_type": "code",
   "execution_count": 218,
   "metadata": {},
   "outputs": [],
   "source": [
    "import json \n",
    "import random\n",
    "from sklearn.metrics import f1_score\n",
    "from printers import pretty_print_conl\n",
    "from sklearn.metrics import f1_score\n",
    "from __future__ import division\n",
    "from treeops import bfs\n",
    "lns = [json.loads(_) for _ in open(\"dev.jsonl\")]"
   ]
  },
  {
   "cell_type": "code",
   "execution_count": 224,
   "metadata": {},
   "outputs": [],
   "source": [
    "def heuristic_extract(jdoc):\n",
    "    '''\n",
    "    return the lowest vertex in the tree that contains the query terms\n",
    "    '''\n",
    "    from_root = [_['dependent'] for _ in jdoc[\"basicDependencies\"] if _['governor'] == 0][0]\n",
    "    best = from_root\n",
    "    def tok_is_verb(vertex):\n",
    "        gov = [o[\"pos\"][0] for o in jdoc[\"tokens\"] if o[\"index\"] == v][0]\n",
    "        return gov[0].lower() == \"v\"\n",
    "    for v in get_walk_from_root(jdoc):  # bfs\n",
    "        children = dfs(g=jdoc, hop_s=v, D=[])\n",
    "        # the verb heuristic is b/c the min governing tree is often just Q itself\n",
    "        if all(i in children for i in jdoc[\"q\"]) and tok_is_verb(v):\n",
    "            best = v\n",
    "    return best\n",
    "\n",
    "def get_path_to_root(v, jdoc):\n",
    "    def get_parent(v):\n",
    "        for _ in jdoc[\"basicDependencies\"]:\n",
    "            if _[\"dependent\"] == v:\n",
    "                return _[\"governor\"]\n",
    "        return _[\"governor\"]\n",
    "    out = [v]\n",
    "    parent = get_parent(v)\n",
    "    while parent != 0:\n",
    "        v = parent\n",
    "        out.append(parent)\n",
    "        parent = get_parent(v)\n",
    "    return out\n",
    "\n",
    "def min_tree_to_root(jdoc):\n",
    "    return {i for q in jdoc[\"q\"] for i in get_path_to_root(q, jdoc)}\n",
    "\n",
    "def len_tree(tree, jdoc):\n",
    "    return sum(len(o['word']) for o in jdoc[\"tokens\"] if o[\"index\"] in tree)\n",
    "\n",
    "\n",
    "def get_options(tree, jdoc):\n",
    "    optionsd = {o[\"dependent\"] for o in jdoc[\"basicDependencies\"] if o[\"governor\"] in tree and o[\"dependent\"] not in tree}\n",
    "    optionsg = {o[\"governor\"] for o in jdoc[\"basicDependencies\"] if o[\"dependent\"] in tree and o[\"governor\"] not in tree}\n",
    "    return optionsd | optionsg\n",
    "    \n",
    "def append_at_random(tree, jdoc):\n",
    "    s = get_options(tree, jdoc)\n",
    "    added = random.sample(s, 1)[0]\n",
    "    assert added not in tree\n",
    "    tree.add(added)\n",
    "\n",
    "def bottom_up_compression_random(jdoc):\n",
    "    tree = min_tree_to_root(jdoc=jdoc)\n",
    "    while len_tree(tree=tree, jdoc=jdoc) < jdoc[\"r\"]:\n",
    "        try:\n",
    "            append_at_random(tree, jdoc)\n",
    "        except ValueError: # it is possible to back into a corner where there are no V left to add.\n",
    "                           # in these cases, you cant make compression longer and should just stop\n",
    "            return tree\n",
    "    return tree\n",
    "\n",
    "def print_gold(jdoc):\n",
    "    gold = jdoc[\"compression_indexes\"]\n",
    "    print \" \".join([_[\"word\"] for _ in jdoc[\"tokens\"] if _[\"index\"] in gold])\n",
    "\n",
    "def print_tree(tree, jdoc):\n",
    "    tk = [_[\"word\"] for _ in jdoc[\"tokens\"] if _[\"index\"] in tree]\n",
    "    print \" \".join(tk)\n",
    "    \n",
    "def get_f1(predicted, jdoc):\n",
    "    original_ixs = [_[\"index\"] for _ in jdoc[\"tokens\"]]\n",
    "    y_true = [_ in jdoc['compression_indexes'] for _ in original_ixs]\n",
    "    y_pred = [_ in predicted for _ in original_ixs]\n",
    "    return f1_score(y_true=y_true, y_pred=y_pred)\n",
    "\n"
   ]
  },
  {
   "cell_type": "code",
   "execution_count": 225,
   "metadata": {},
   "outputs": [
    {
     "data": {
      "text/plain": [
       "({5, 9, 10, 14, 15, 16}, 0.54545454545454541)"
      ]
     },
     "execution_count": 225,
     "metadata": {},
     "output_type": "execute_result"
    }
   ],
   "source": [
    "tot = 0\n",
    "for sentence in lns:\n",
    "    predicted = bottom_up_compression_random(sentence)\n",
    "    tot += get_f1(predicted, sentence)\n",
    "tot/len(lns)\n",
    "predicted, get_f1(predicted, sentence)"
   ]
  },
  {
   "cell_type": "code",
   "execution_count": 161,
   "metadata": {},
   "outputs": [],
   "source": [
    "train = [json.loads(_) for _ in open(\"mini.train.jsonl\")]"
   ]
  },
  {
   "cell_type": "code",
   "execution_count": 226,
   "metadata": {},
   "outputs": [
    {
     "name": "stdout",
     "output_type": "stream",
     "text": [
      "{u'cc': 0.0299625468164794, u'nmod:tmod': 0.02247191011235955, u'compound:prt': 0.003745318352059925, u'nsubjpass': 0.011235955056179775, u'conj': 0.0299625468164794, u'dobj': 0.04119850187265917, u'neg': 0.00749063670411985, u'mark': 0.003745318352059925, u'auxpass': 0.00749063670411985, u'advcl': 0.018726591760299626, u'aux': 0.03745318352059925, u'parataxis': 0.0149812734082397, u'xcomp': 0.0299625468164794, u'nsubj': 0.09363295880149813, u'nummod': 0.00749063670411985, u'advmod': 0.018726591760299626, u'punct': 0.27340823970037453, u'compound': 0.06741573033707865, u'ccomp': 0.018726591760299626, u'nmod:poss': 0.0149812734082397, u'case': 0.018726591760299626, u'cop': 0.011235955056179775, u'dep': 0.018726591760299626, u'appos': 0.00749063670411985, u'det': 0.0299625468164794, u'nmod': 0.08239700374531835, u'amod': 0.0299625468164794, u'acl:relcl': 0.02247191011235955, u'root': 0.003745318352059925, u'acl': 0.02247191011235955}\n"
     ]
    }
   ],
   "source": [
    "from collections import defaultdict\n",
    "\n",
    "dep_counter = defaultdict(list)\n",
    "\n",
    "for _ in train:\n",
    "    toks = [i for i in _[\"tokens\"] if i[\"index\"] in _[\"compression_indexes\"] + [0]]\n",
    "    _[\"tokens\"] = toks\n",
    "    #print len(toks)\n",
    "    for t in _[\"tokens\"]:\n",
    "        gov = [d[\"dep\"] for d in _[\"basicDependencies\"] if d[\"dependent\"] == t[\"index\"]]\n",
    "        assert len(gov) == 1\n",
    "        gov = gov[0]\n",
    "        dep = [d[\"dep\"] for d in _[\"basicDependencies\"] if d[\"governor\"] == t[\"index\"]]\n",
    "        for d in dep:\n",
    "            dep_counter[gov].append(d)\n",
    "\n",
    "from collections import Counter\n",
    "\n",
    "dep_probs = defaultdict()\n",
    "for d in dep_counter:\n",
    "    c = Counter(dep_counter[d])\n",
    "    c = {k:v/sum(c.values()) for k,v in c.items()}\n",
    "    dep_probs[d] = c\n",
    "    \n",
    "print dep_probs['root']"
   ]
  },
  {
   "cell_type": "code",
   "execution_count": 268,
   "metadata": {},
   "outputs": [
    {
     "name": "stdout",
     "output_type": "stream",
     "text": [
      "adding 1\n",
      "adding 3\n",
      "adding 6\n",
      "adding 5\n",
      "adding 7\n",
      "adding 12\n",
      "deleting 5\n",
      "> <ipython-input-268-73594752374d>(22)remove_from_q()\n",
      "-> break\n",
      "(Pdb) Q\n",
      "[{u'dependentGloss': u'Butler', u'dep': u'nsubj', u'governorGloss': u'said', u'governor': 4, u'dependent': 3, 'prob': 0.1569045964459446}, {u'dependentGloss': u'Favre', u'dep': u'dobj', u'governorGloss': u'pities', u'governor': 6, u'dependent': 7, 'prob': 0.10552242675654654}, {u'dependentGloss': u'find', u'dep': u'advcl', u'governorGloss': u'pities', u'governor': 6, u'dependent': 12, 'prob': 0.039495289949010456}, {u'dependentGloss': u'Today', u'dep': u'nmod:tmod', u'governorGloss': u'said', u'governor': 4, u'dependent': 1, 'prob': 0.03129653529236573}, {u'dependentGloss': u'pities', u'dep': u'ccomp', u'governorGloss': u'said', u'governor': 4, u'dependent': 6, 'prob': 0.02089744862503723}]\n",
      "(Pdb) vx\n",
      "5\n"
     ]
    },
    {
     "ename": "KeyboardInterrupt",
     "evalue": "",
     "output_type": "error",
     "traceback": [
      "\u001b[0;31m--------------\u001b[0m",
      "\u001b[0;31mKeyboardInterrupt\u001b[0mTraceback (most recent call last)",
      "\u001b[0;32m<ipython-input-268-73594752374d>\u001b[0m in \u001b[0;36m<module>\u001b[0;34m()\u001b[0m\n\u001b[1;32m     30\u001b[0m         \u001b[0mtree\u001b[0m\u001b[0;34m.\u001b[0m\u001b[0madd\u001b[0m\u001b[0;34m(\u001b[0m\u001b[0mq_by_prob\u001b[0m\u001b[0;34m[\u001b[0m\u001b[0;36m0\u001b[0m\u001b[0;34m]\u001b[0m\u001b[0;34m[\u001b[0m\u001b[0;34m\"dependent\"\u001b[0m\u001b[0;34m]\u001b[0m\u001b[0;34m)\u001b[0m\u001b[0;34m\u001b[0m\u001b[0m\n\u001b[1;32m     31\u001b[0m         \u001b[0madd_children_to_q\u001b[0m\u001b[0;34m(\u001b[0m\u001b[0mq_by_prob\u001b[0m\u001b[0;34m[\u001b[0m\u001b[0;36m0\u001b[0m\u001b[0;34m]\u001b[0m\u001b[0;34m[\u001b[0m\u001b[0;34m\"dependent\"\u001b[0m\u001b[0;34m]\u001b[0m\u001b[0;34m,\u001b[0m \u001b[0mq_by_prob\u001b[0m\u001b[0;34m,\u001b[0m \u001b[0mjdoc\u001b[0m\u001b[0;34m)\u001b[0m\u001b[0;34m\u001b[0m\u001b[0m\n\u001b[0;32m---> 32\u001b[0;31m         \u001b[0mremove_from_q\u001b[0m\u001b[0;34m(\u001b[0m\u001b[0mq_by_prob\u001b[0m\u001b[0;34m[\u001b[0m\u001b[0;36m0\u001b[0m\u001b[0;34m]\u001b[0m\u001b[0;34m[\u001b[0m\u001b[0;34m\"dependent\"\u001b[0m\u001b[0;34m]\u001b[0m\u001b[0;34m,\u001b[0m \u001b[0mq_by_prob\u001b[0m\u001b[0;34m,\u001b[0m \u001b[0msentence\u001b[0m\u001b[0;34m)\u001b[0m\u001b[0;34m\u001b[0m\u001b[0m\n\u001b[0m\u001b[1;32m     33\u001b[0m     \u001b[0;32mexcept\u001b[0m \u001b[0mValueError\u001b[0m\u001b[0;34m:\u001b[0m \u001b[0;31m# it is possible to back into a corner where there are no V left to add.\u001b[0m\u001b[0;34m\u001b[0m\u001b[0m\n\u001b[1;32m     34\u001b[0m                        \u001b[0;31m# in these cases, you cant make compression longer and should just stop\u001b[0m\u001b[0;34m\u001b[0m\u001b[0;34m\u001b[0m\u001b[0m\n",
      "\u001b[0;32m<ipython-input-268-73594752374d>\u001b[0m in \u001b[0;36mremove_from_q\u001b[0;34m(vx, Q, sentence)\u001b[0m\n\u001b[1;32m     20\u001b[0m             \u001b[0;32mdel\u001b[0m \u001b[0mQ\u001b[0m\u001b[0;34m[\u001b[0m\u001b[0mino\u001b[0m\u001b[0;34m]\u001b[0m\u001b[0;34m\u001b[0m\u001b[0m\n\u001b[1;32m     21\u001b[0m             \u001b[0;32mimport\u001b[0m \u001b[0mpdb\u001b[0m\u001b[0;34m;\u001b[0m\u001b[0mpdb\u001b[0m\u001b[0;34m.\u001b[0m\u001b[0mset_trace\u001b[0m\u001b[0;34m(\u001b[0m\u001b[0;34m)\u001b[0m\u001b[0;34m\u001b[0m\u001b[0m\n\u001b[0;32m---> 22\u001b[0;31m             \u001b[0;32mbreak\u001b[0m\u001b[0;34m\u001b[0m\u001b[0m\n\u001b[0m\u001b[1;32m     23\u001b[0m \u001b[0;34m\u001b[0m\u001b[0m\n\u001b[1;32m     24\u001b[0m \u001b[0;32mfor\u001b[0m \u001b[0mitem\u001b[0m \u001b[0;32min\u001b[0m \u001b[0mtree\u001b[0m\u001b[0;34m:\u001b[0m\u001b[0;34m\u001b[0m\u001b[0m\n",
      "\u001b[0;32m<ipython-input-268-73594752374d>\u001b[0m in \u001b[0;36mremove_from_q\u001b[0;34m(vx, Q, sentence)\u001b[0m\n\u001b[1;32m     20\u001b[0m             \u001b[0;32mdel\u001b[0m \u001b[0mQ\u001b[0m\u001b[0;34m[\u001b[0m\u001b[0mino\u001b[0m\u001b[0;34m]\u001b[0m\u001b[0;34m\u001b[0m\u001b[0m\n\u001b[1;32m     21\u001b[0m             \u001b[0;32mimport\u001b[0m \u001b[0mpdb\u001b[0m\u001b[0;34m;\u001b[0m\u001b[0mpdb\u001b[0m\u001b[0;34m.\u001b[0m\u001b[0mset_trace\u001b[0m\u001b[0;34m(\u001b[0m\u001b[0;34m)\u001b[0m\u001b[0;34m\u001b[0m\u001b[0m\n\u001b[0;32m---> 22\u001b[0;31m             \u001b[0;32mbreak\u001b[0m\u001b[0;34m\u001b[0m\u001b[0m\n\u001b[0m\u001b[1;32m     23\u001b[0m \u001b[0;34m\u001b[0m\u001b[0m\n\u001b[1;32m     24\u001b[0m \u001b[0;32mfor\u001b[0m \u001b[0mitem\u001b[0m \u001b[0;32min\u001b[0m \u001b[0mtree\u001b[0m\u001b[0;34m:\u001b[0m\u001b[0;34m\u001b[0m\u001b[0m\n",
      "\u001b[0;32m/System/Library/Frameworks/Python.framework/Versions/2.7/lib/python2.7/bdb.pyc\u001b[0m in \u001b[0;36mtrace_dispatch\u001b[0;34m(self, frame, event, arg)\u001b[0m\n\u001b[1;32m     47\u001b[0m             \u001b[0;32mreturn\u001b[0m \u001b[0;31m# None\u001b[0m\u001b[0;34m\u001b[0m\u001b[0m\n\u001b[1;32m     48\u001b[0m         \u001b[0;32mif\u001b[0m \u001b[0mevent\u001b[0m \u001b[0;34m==\u001b[0m \u001b[0;34m'line'\u001b[0m\u001b[0;34m:\u001b[0m\u001b[0;34m\u001b[0m\u001b[0m\n\u001b[0;32m---> 49\u001b[0;31m             \u001b[0;32mreturn\u001b[0m \u001b[0mself\u001b[0m\u001b[0;34m.\u001b[0m\u001b[0mdispatch_line\u001b[0m\u001b[0;34m(\u001b[0m\u001b[0mframe\u001b[0m\u001b[0;34m)\u001b[0m\u001b[0;34m\u001b[0m\u001b[0m\n\u001b[0m\u001b[1;32m     50\u001b[0m         \u001b[0;32mif\u001b[0m \u001b[0mevent\u001b[0m \u001b[0;34m==\u001b[0m \u001b[0;34m'call'\u001b[0m\u001b[0;34m:\u001b[0m\u001b[0;34m\u001b[0m\u001b[0m\n\u001b[1;32m     51\u001b[0m             \u001b[0;32mreturn\u001b[0m \u001b[0mself\u001b[0m\u001b[0;34m.\u001b[0m\u001b[0mdispatch_call\u001b[0m\u001b[0;34m(\u001b[0m\u001b[0mframe\u001b[0m\u001b[0;34m,\u001b[0m \u001b[0marg\u001b[0m\u001b[0;34m)\u001b[0m\u001b[0;34m\u001b[0m\u001b[0m\n",
      "\u001b[0;32m/System/Library/Frameworks/Python.framework/Versions/2.7/lib/python2.7/bdb.pyc\u001b[0m in \u001b[0;36mdispatch_line\u001b[0;34m(self, frame)\u001b[0m\n\u001b[1;32m     65\u001b[0m     \u001b[0;32mdef\u001b[0m \u001b[0mdispatch_line\u001b[0m\u001b[0;34m(\u001b[0m\u001b[0mself\u001b[0m\u001b[0;34m,\u001b[0m \u001b[0mframe\u001b[0m\u001b[0;34m)\u001b[0m\u001b[0;34m:\u001b[0m\u001b[0;34m\u001b[0m\u001b[0m\n\u001b[1;32m     66\u001b[0m         \u001b[0;32mif\u001b[0m \u001b[0mself\u001b[0m\u001b[0;34m.\u001b[0m\u001b[0mstop_here\u001b[0m\u001b[0;34m(\u001b[0m\u001b[0mframe\u001b[0m\u001b[0;34m)\u001b[0m \u001b[0;32mor\u001b[0m \u001b[0mself\u001b[0m\u001b[0;34m.\u001b[0m\u001b[0mbreak_here\u001b[0m\u001b[0;34m(\u001b[0m\u001b[0mframe\u001b[0m\u001b[0;34m)\u001b[0m\u001b[0;34m:\u001b[0m\u001b[0;34m\u001b[0m\u001b[0m\n\u001b[0;32m---> 67\u001b[0;31m             \u001b[0mself\u001b[0m\u001b[0;34m.\u001b[0m\u001b[0muser_line\u001b[0m\u001b[0;34m(\u001b[0m\u001b[0mframe\u001b[0m\u001b[0;34m)\u001b[0m\u001b[0;34m\u001b[0m\u001b[0m\n\u001b[0m\u001b[1;32m     68\u001b[0m             \u001b[0;32mif\u001b[0m \u001b[0mself\u001b[0m\u001b[0;34m.\u001b[0m\u001b[0mquitting\u001b[0m\u001b[0;34m:\u001b[0m \u001b[0;32mraise\u001b[0m \u001b[0mBdbQuit\u001b[0m\u001b[0;34m\u001b[0m\u001b[0m\n\u001b[1;32m     69\u001b[0m         \u001b[0;32mreturn\u001b[0m \u001b[0mself\u001b[0m\u001b[0;34m.\u001b[0m\u001b[0mtrace_dispatch\u001b[0m\u001b[0;34m\u001b[0m\u001b[0m\n",
      "\u001b[0;32m/System/Library/Frameworks/Python.framework/Versions/2.7/lib/python2.7/pdb.pyc\u001b[0m in \u001b[0;36muser_line\u001b[0;34m(self, frame)\u001b[0m\n\u001b[1;32m    156\u001b[0m             \u001b[0mself\u001b[0m\u001b[0;34m.\u001b[0m\u001b[0m_wait_for_mainpyfile\u001b[0m \u001b[0;34m=\u001b[0m \u001b[0;36m0\u001b[0m\u001b[0;34m\u001b[0m\u001b[0m\n\u001b[1;32m    157\u001b[0m         \u001b[0;32mif\u001b[0m \u001b[0mself\u001b[0m\u001b[0;34m.\u001b[0m\u001b[0mbp_commands\u001b[0m\u001b[0;34m(\u001b[0m\u001b[0mframe\u001b[0m\u001b[0;34m)\u001b[0m\u001b[0;34m:\u001b[0m\u001b[0;34m\u001b[0m\u001b[0m\n\u001b[0;32m--> 158\u001b[0;31m             \u001b[0mself\u001b[0m\u001b[0;34m.\u001b[0m\u001b[0minteraction\u001b[0m\u001b[0;34m(\u001b[0m\u001b[0mframe\u001b[0m\u001b[0;34m,\u001b[0m \u001b[0mNone\u001b[0m\u001b[0;34m)\u001b[0m\u001b[0;34m\u001b[0m\u001b[0m\n\u001b[0m\u001b[1;32m    159\u001b[0m \u001b[0;34m\u001b[0m\u001b[0m\n\u001b[1;32m    160\u001b[0m     \u001b[0;32mdef\u001b[0m \u001b[0mbp_commands\u001b[0m\u001b[0;34m(\u001b[0m\u001b[0mself\u001b[0m\u001b[0;34m,\u001b[0m\u001b[0mframe\u001b[0m\u001b[0;34m)\u001b[0m\u001b[0;34m:\u001b[0m\u001b[0;34m\u001b[0m\u001b[0m\n",
      "\u001b[0;32m/System/Library/Frameworks/Python.framework/Versions/2.7/lib/python2.7/pdb.pyc\u001b[0m in \u001b[0;36minteraction\u001b[0;34m(self, frame, traceback)\u001b[0m\n\u001b[1;32m    208\u001b[0m         \u001b[0mself\u001b[0m\u001b[0;34m.\u001b[0m\u001b[0msetup\u001b[0m\u001b[0;34m(\u001b[0m\u001b[0mframe\u001b[0m\u001b[0;34m,\u001b[0m \u001b[0mtraceback\u001b[0m\u001b[0;34m)\u001b[0m\u001b[0;34m\u001b[0m\u001b[0m\n\u001b[1;32m    209\u001b[0m         \u001b[0mself\u001b[0m\u001b[0;34m.\u001b[0m\u001b[0mprint_stack_entry\u001b[0m\u001b[0;34m(\u001b[0m\u001b[0mself\u001b[0m\u001b[0;34m.\u001b[0m\u001b[0mstack\u001b[0m\u001b[0;34m[\u001b[0m\u001b[0mself\u001b[0m\u001b[0;34m.\u001b[0m\u001b[0mcurindex\u001b[0m\u001b[0;34m]\u001b[0m\u001b[0;34m)\u001b[0m\u001b[0;34m\u001b[0m\u001b[0m\n\u001b[0;32m--> 210\u001b[0;31m         \u001b[0mself\u001b[0m\u001b[0;34m.\u001b[0m\u001b[0mcmdloop\u001b[0m\u001b[0;34m(\u001b[0m\u001b[0;34m)\u001b[0m\u001b[0;34m\u001b[0m\u001b[0m\n\u001b[0m\u001b[1;32m    211\u001b[0m         \u001b[0mself\u001b[0m\u001b[0;34m.\u001b[0m\u001b[0mforget\u001b[0m\u001b[0;34m(\u001b[0m\u001b[0;34m)\u001b[0m\u001b[0;34m\u001b[0m\u001b[0m\n\u001b[1;32m    212\u001b[0m \u001b[0;34m\u001b[0m\u001b[0m\n",
      "\u001b[0;32m/System/Library/Frameworks/Python.framework/Versions/2.7/lib/python2.7/cmd.pyc\u001b[0m in \u001b[0;36mcmdloop\u001b[0;34m(self, intro)\u001b[0m\n\u001b[1;32m    128\u001b[0m                     \u001b[0;32mif\u001b[0m \u001b[0mself\u001b[0m\u001b[0;34m.\u001b[0m\u001b[0muse_rawinput\u001b[0m\u001b[0;34m:\u001b[0m\u001b[0;34m\u001b[0m\u001b[0m\n\u001b[1;32m    129\u001b[0m                         \u001b[0;32mtry\u001b[0m\u001b[0;34m:\u001b[0m\u001b[0;34m\u001b[0m\u001b[0m\n\u001b[0;32m--> 130\u001b[0;31m                             \u001b[0mline\u001b[0m \u001b[0;34m=\u001b[0m \u001b[0mraw_input\u001b[0m\u001b[0;34m(\u001b[0m\u001b[0mself\u001b[0m\u001b[0;34m.\u001b[0m\u001b[0mprompt\u001b[0m\u001b[0;34m)\u001b[0m\u001b[0;34m\u001b[0m\u001b[0m\n\u001b[0m\u001b[1;32m    131\u001b[0m                         \u001b[0;32mexcept\u001b[0m \u001b[0mEOFError\u001b[0m\u001b[0;34m:\u001b[0m\u001b[0;34m\u001b[0m\u001b[0m\n\u001b[1;32m    132\u001b[0m                             \u001b[0mline\u001b[0m \u001b[0;34m=\u001b[0m \u001b[0;34m'EOF'\u001b[0m\u001b[0;34m\u001b[0m\u001b[0m\n",
      "\u001b[0;32m/Users/ahandler/.virtualenvs/science/lib/python2.7/site-packages/ipykernel/kernelbase.pyc\u001b[0m in \u001b[0;36mraw_input\u001b[0;34m(self, prompt)\u001b[0m\n\u001b[1;32m    702\u001b[0m             \u001b[0mself\u001b[0m\u001b[0;34m.\u001b[0m\u001b[0m_parent_ident\u001b[0m\u001b[0;34m,\u001b[0m\u001b[0;34m\u001b[0m\u001b[0m\n\u001b[1;32m    703\u001b[0m             \u001b[0mself\u001b[0m\u001b[0;34m.\u001b[0m\u001b[0m_parent_header\u001b[0m\u001b[0;34m,\u001b[0m\u001b[0;34m\u001b[0m\u001b[0m\n\u001b[0;32m--> 704\u001b[0;31m             \u001b[0mpassword\u001b[0m\u001b[0;34m=\u001b[0m\u001b[0mFalse\u001b[0m\u001b[0;34m,\u001b[0m\u001b[0;34m\u001b[0m\u001b[0m\n\u001b[0m\u001b[1;32m    705\u001b[0m         )\n\u001b[1;32m    706\u001b[0m \u001b[0;34m\u001b[0m\u001b[0m\n",
      "\u001b[0;32m/Users/ahandler/.virtualenvs/science/lib/python2.7/site-packages/ipykernel/kernelbase.pyc\u001b[0m in \u001b[0;36m_input_request\u001b[0;34m(self, prompt, ident, parent, password)\u001b[0m\n\u001b[1;32m    732\u001b[0m             \u001b[0;32mexcept\u001b[0m \u001b[0mKeyboardInterrupt\u001b[0m\u001b[0;34m:\u001b[0m\u001b[0;34m\u001b[0m\u001b[0m\n\u001b[1;32m    733\u001b[0m                 \u001b[0;31m# re-raise KeyboardInterrupt, to truncate traceback\u001b[0m\u001b[0;34m\u001b[0m\u001b[0;34m\u001b[0m\u001b[0m\n\u001b[0;32m--> 734\u001b[0;31m                 \u001b[0;32mraise\u001b[0m \u001b[0mKeyboardInterrupt\u001b[0m\u001b[0;34m\u001b[0m\u001b[0m\n\u001b[0m\u001b[1;32m    735\u001b[0m             \u001b[0;32melse\u001b[0m\u001b[0;34m:\u001b[0m\u001b[0;34m\u001b[0m\u001b[0m\n\u001b[1;32m    736\u001b[0m                 \u001b[0;32mbreak\u001b[0m\u001b[0;34m\u001b[0m\u001b[0m\n",
      "\u001b[0;31mKeyboardInterrupt\u001b[0m: "
     ]
    }
   ],
   "source": [
    "sentence = train[0] \n",
    "tree = min_tree_to_root(jdoc=sentence)\n",
    "q_by_prob = []\n",
    "\n",
    "def add_children_to_q(vx, q, sentence):\n",
    "    '''add a vertexes children to a queue, sort by prob'''\n",
    "    children = [d for d in sentence['basicDependencies'] if d[\"governor\"] == vx if d[\"dep\"] not in [\"punct\"]]\n",
    "    governor = [d for d in sentence['basicDependencies'] if d[\"dependent\"] == vx][0]\n",
    "    for c in children:\n",
    "        print \"adding\", c[\"dependent\"]\n",
    "        c[\"prob\"] = dep_probs[governor[\"dep\"]][c[\"dep\"]]\n",
    "        q.append(c)\n",
    "    q.sort(key=lambda x:x[\"prob\"], reverse=True)\n",
    "\n",
    "def remove_from_q(vx, Q, sentence):\n",
    "    '''add a vertexes children to a queue, sort by prob'''\n",
    "    print \"deleting {}\".format(vx)\n",
    "    for ino, i in enumerate(Q):\n",
    "        if i[\"dependent\"] == vx:\n",
    "            del Q[ino]\n",
    "            break\n",
    "\n",
    "for item in tree:\n",
    "    add_children_to_q(item, q_by_prob, sentence)\n",
    "\n",
    "\n",
    "while len_tree(tree=tree, jdoc=jdoc) < jdoc[\"r\"]:\n",
    "    try:\n",
    "        tree.add(q_by_prob[0][\"dependent\"])\n",
    "        add_children_to_q(q_by_prob[0][\"dependent\"], q_by_prob, jdoc)\n",
    "        remove_from_q(q_by_prob[0][\"dependent\"], q_by_prob, sentence)\n",
    "    except ValueError: # it is possible to back into a corner where there are no V left to add.\n",
    "                       # in these cases, you cant make compression longer and should just stop\n",
    "        pass\n"
   ]
  },
  {
   "cell_type": "code",
   "execution_count": null,
   "metadata": {},
   "outputs": [],
   "source": []
  }
 ],
 "metadata": {
  "kernelspec": {
   "display_name": "Python 2",
   "language": "python",
   "name": "python2"
  },
  "language_info": {
   "codemirror_mode": {
    "name": "ipython",
    "version": 2
   },
   "file_extension": ".py",
   "mimetype": "text/x-python",
   "name": "python",
   "nbconvert_exporter": "python",
   "pygments_lexer": "ipython2",
   "version": "2.7.10"
  }
 },
 "nbformat": 4,
 "nbformat_minor": 2
}
