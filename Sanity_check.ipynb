{
 "cells": [
  {
   "cell_type": "code",
   "execution_count": 8,
   "metadata": {
    "collapsed": false
   },
   "outputs": [
    {
     "name": "stdout",
     "output_type": "stream",
     "text": [
      "bottom_up_clean/only_locals_results.jsonl 0.827\n",
      "bottom_up_clean/make_decision_lr_results.jsonl 0.881\n",
      "bottom_up_clean/ilp_results.jsonl 0.852\n",
      "bottom_up_clean/make_decision_nn_results.jsonl 0.873\n",
      "bottom_up_clean/make_decision_random_results.jsonl 0.652\n"
     ]
    }
   ],
   "source": [
    "import glob\n",
    "import json\n",
    "import numpy as np\n",
    "for fn in glob.glob(\"bottom_up_clean/*jsonl\"):\n",
    "    slors = []\n",
    "    with open(fn, \"r\") as inf:\n",
    "        for i in inf:\n",
    "            i = json.loads(i)\n",
    "            slors.append(i[\"f1\"])\n",
    "    print(fn, round(np.mean(slors), 3))"
   ]
  }
 ],
 "metadata": {
  "kernelspec": {
   "display_name": "Python 3",
   "language": "python",
   "name": "python3"
  },
  "language_info": {
   "codemirror_mode": {
    "name": "ipython",
    "version": 3
   },
   "file_extension": ".py",
   "mimetype": "text/x-python",
   "name": "python",
   "nbconvert_exporter": "python",
   "pygments_lexer": "ipython3",
   "version": "3.6.2"
  }
 },
 "nbformat": 4,
 "nbformat_minor": 1
}
