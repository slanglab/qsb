{
 "cells": [
  {
   "cell_type": "code",
   "execution_count": 8,
   "metadata": {},
   "outputs": [
    {
     "name": "stdout",
     "output_type": "stream",
     "text": [
      "bottom_up_clean/only_locals_results.jsonl 0.827\n",
      "bottom_up_clean/make_decision_lr_results.jsonl 0.881\n",
      "bottom_up_clean/ilp_results.jsonl 0.852\n",
      "bottom_up_clean/make_decision_nn_results.jsonl 0.873\n",
      "bottom_up_clean/make_decision_random_results.jsonl 0.652\n"
     ]
    }
   ],
   "source": [
    "import glob\n",
    "import json\n",
    "import numpy as np\n",
    "for fn in glob.glob(\"bottom_up_clean/*jsonl\"):\n",
    "    slors = []\n",
    "    with open(fn, \"r\") as inf:\n",
    "        for i in inf:\n",
    "            i = json.loads(i)\n",
    "            slors.append(i[\"f1\"])\n",
    "    print(fn, round(np.mean(slors), 3))"
   ]
  },
  {
   "cell_type": "code",
   "execution_count": 16,
   "metadata": {},
   "outputs": [
    {
     "name": "stdout",
     "output_type": "stream",
     "text": [
      "training 198570\n",
      "test 9949\n",
      "validation 25000\n"
     ]
    }
   ],
   "source": [
    "import json\n",
    "\n",
    "for fn in [\"training\", \"test\", \"validation\"]:\n",
    "    c = 0\n",
    "    with open(\"preproc/{}.paths\".format(fn), \"rb\") as inf:\n",
    "        for i in inf:\n",
    "            c += 1\n",
    "        \n",
    "    if fn == \"training\":\n",
    "        c += 25000 # for validation set\n",
    "    print(fn, c)"
   ]
  },
  {
   "cell_type": "code",
   "execution_count": 17,
   "metadata": {},
   "outputs": [
    {
     "name": "stdout",
     "output_type": "stream",
     "text": [
      "    9949 bottom_up_clean/ilp_results.jsonl\r\n",
      "    9949 bottom_up_clean/make_decision_lr_results.jsonl\r\n",
      "    9949 bottom_up_clean/make_decision_nn_results.jsonl\r\n",
      "    9949 bottom_up_clean/make_decision_random_results.jsonl\r\n",
      "    9949 bottom_up_clean/only_locals_results.jsonl\r\n",
      "   49745 total\r\n"
     ]
    }
   ],
   "source": [
    "# make sure we are on the test set \n",
    "\n",
    "! wc -l bottom_up_clean/*jsonl"
   ]
  }
 ],
 "metadata": {
  "kernelspec": {
   "display_name": "Python 3",
   "language": "python",
   "name": "python3"
  },
  "language_info": {
   "codemirror_mode": {
    "name": "ipython",
    "version": 3
   },
   "file_extension": ".py",
   "mimetype": "text/x-python",
   "name": "python",
   "nbconvert_exporter": "python",
   "pygments_lexer": "ipython3",
   "version": "3.7.4"
  }
 },
 "nbformat": 4,
 "nbformat_minor": 1
}
