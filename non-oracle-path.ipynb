{
 "cells": [
  {
   "cell_type": "code",
   "execution_count": 18,
   "metadata": {},
   "outputs": [
    {
     "name": "stdout",
     "output_type": "stream",
     "text": [
      "The autoreload extension is already loaded. To reload it, use:\n",
      "  %reload_ext autoreload\n"
     ]
    }
   ],
   "source": [
    "import json\n",
    "import numpy as np\n",
    "from bottom_up.all import pick_bfs_connected\n",
    "from bottom_up.all import get_lr\n",
    "from bottom_up.all import get_dependents\n",
    "from bottom_up.all import get_f1\n",
    "from bottom_up.all import featurize_ultra_local\n",
    "from bottom_up.all import get_local_feats\n",
    "from bottom_up.all import get_global_feats\n",
    "from bottom_up.all import featurize_parent_proposal\n",
    "from bottom_up.all import pick_l2r_connected\n",
    "from bottom_up.all import featurize_child_proposal\n",
    "from sklearn.linear_model import LogisticRegression\n",
    "from sklearn.feature_extraction import DictVectorizer\n",
    "from code.printers import pretty_print_conl\n",
    "from bottom_up.all import pick_bfs_connected\n",
    "from bottom_up.all import len_tree\n",
    "%load_ext autoreload\n",
    "\n",
    "%autoreload 2"
   ]
  },
  {
   "cell_type": "code",
   "execution_count": 8,
   "metadata": {},
   "outputs": [
    {
     "name": "stderr",
     "output_type": "stream",
     "text": [
      "/Users/ahandler/.virtualenvs/p3/lib/python3.6/site-packages/sklearn/base.py:311: UserWarning: Trying to unpickle estimator LogisticRegression from version 0.20.2 when using version 0.19.1. This might lead to breaking code or invalid results. Use at your own risk.\n",
      "  UserWarning)\n",
      "/Users/ahandler/.virtualenvs/p3/lib/python3.6/site-packages/sklearn/base.py:311: UserWarning: Trying to unpickle estimator DictVectorizer from version 0.20.2 when using version 0.19.1. This might lead to breaking code or invalid results. Use at your own risk.\n",
      "  UserWarning)\n"
     ]
    }
   ],
   "source": [
    "import pickle\n",
    "with open(\"a\", \"rb\") as inf:\n",
    "    dt = pickle.load(inf)\n",
    "    \n",
    "clf, vectorizer = dt"
   ]
  },
  {
   "cell_type": "code",
   "execution_count": 23,
   "metadata": {},
   "outputs": [
    {
     "name": "stdout",
     "output_type": "stream",
     "text": [
      "0.8234226466815519\n"
     ]
    }
   ],
   "source": [
    "def pick_at_random(l, **kwargs):\n",
    "    return random.sample(l, 1)[0]\n",
    "\n",
    "from code.treeops import bfs\n",
    "from bottom_up.all import pick_bfs\n",
    "from bottom_up.all import get_dependents_and_governors\n",
    "import random\n",
    "\n",
    "def runtime_path_wild_frontier(sentence, pi, clf, vectorizer, verbose=False):\n",
    "    T = {i for i in sentence[\"q\"]}\n",
    "    F = set()\n",
    "    \n",
    "    # init frontier\n",
    "    for v in T:\n",
    "        for i in sentence[\"tokens\"]:\n",
    "            F.add(i[\"index\"])\n",
    "\n",
    "    d, heads, c = bfs(g=sentence, hop_s=0) \n",
    "    while len(F) > 0:\n",
    "        vertex = pi(F=F, d=d, T=T, s=sentence)\n",
    "\n",
    "        if vertex != 0: # bug here?\n",
    "            feats = get_local_feats(vertex=vertex, sentence=sentence, d=d, current_tree=T)\n",
    "            feats = get_global_feats(sentence=sentence, feats=feats, vertex=vertex, current_tree=T)\n",
    "\n",
    "            X = vectorizer.transform([feats])\n",
    "            pred = clf.predict_proba(X)[0]\n",
    "            y = clf.predict(X)[0]\n",
    "\n",
    "            if y == 1:\n",
    "                T.add(vertex)\n",
    "                if vertex != 0:\n",
    "                    for i in get_dependents_and_governors(vertex, sentence, T):\n",
    "                        if i not in T and i is not None:\n",
    "                            F.add(i)\n",
    "                else:\n",
    "                    for i in get_dependents(sentence, vertex):\n",
    "                        if i[\"dependent\"] not in T and i is not None:\n",
    "                            F.add(i)\n",
    "        F.remove(vertex)\n",
    "\n",
    "    return T\n",
    "\n",
    "tot = 0\n",
    "for pno, paths in enumerate(validation_paths):\n",
    "    paths=json.loads(paths)\n",
    "    sentence = paths[\"sentence\"]\n",
    "    predicted = runtime_path_wild_frontier(sentence, pi=pick_l2r_connected, clf=clf, vectorizer=vectorizer)\n",
    "    f1s = get_f1(predicted, sentence)\n",
    "    tot += f1s\n",
    "print(tot/len(validation_paths))"
   ]
  },
  {
   "cell_type": "code",
   "execution_count": null,
   "metadata": {},
   "outputs": [],
   "source": [
    "sentence = paths[\"sentence\"]"
   ]
  },
  {
   "cell_type": "code",
   "execution_count": null,
   "metadata": {},
   "outputs": [],
   "source": [
    "from bottom_up.all import get_labels_and_features\n",
    "from bottom_up.all import get_governor\n",
    "\n",
    "import json\n",
    "import pickle\n",
    "import numpy as np\n",
    "from bottom_up.all import get_lr\n",
    "from bottom_up.all import get_dependents\n",
    "from bottom_up.all import get_f1\n",
    "from bottom_up.all import featurize_ultra_local\n",
    "from bottom_up.all import featurize_parent_proposal\n",
    "from bottom_up.all import featurize_child_proposal\n",
    "from sklearn.linear_model import LogisticRegression\n",
    "from sklearn.feature_extraction import DictVectorizer\n",
    "from code.printers import pretty_print_conl\n",
    "from bottom_up.all import len_tree\n",
    "\n",
    "training_paths = [_ for _ in open(\"training.paths\")]\n",
    "validation_paths = [_ for _ in open(\"validation.paths\")]\n",
    "\n",
    "\n",
    "vectorizer = DictVectorizer(sparse=True)\n",
    "\n",
    "train_features, train_labels = get_labels_and_features(training_paths)\n",
    "\n",
    "X_train = vectorizer.fit_transform(train_features)\n",
    "\n",
    "y_train = np.asarray(train_labels)\n",
    "\n",
    "val_features, val_labels = get_labels_and_features(validation_paths)\n",
    "\n",
    "X_val = vectorizer.transform(val_features)\n",
    "\n",
    "y_val = np.asarray(val_labels)\n",
    "\n",
    "clf = LogisticRegression(random_state=0,\n",
    "                         solver='lbfgs',\n",
    "                         C=.5,\n",
    "                         multi_class='ovr').fit(X_train, y_train)\n",
    "\n",
    "print(clf.score(X_val,y_val))\n",
    "print(clf.score(X_train, y_train))"
   ]
  },
  {
   "cell_type": "code",
   "execution_count": 131,
   "metadata": {},
   "outputs": [
    {
     "name": "stdout",
     "output_type": "stream",
     "text": [
      "0 a {'dep': 'det', 'governorGloss': 'drama', 'dependentGloss': 'a', 'type': 'CHILD', 'position': 0.30434782608695654, 'det_gov_pos': False, 'parent_label': 'detdrama', 'child_label': 'deta', 'ner': 'O', 'pos': 'DT', 'depth': 4, 'disconnected': 0, 'over_r': False, 'remaining': 16} drama\n",
      "0 An {'dep': 'det', 'governorGloss': 'man', 'dependentGloss': 'An', 'type': 'CHILD', 'position': 0.047619047619047616, 'det_gov_pos': False, 'parent_label': 'detman', 'child_label': 'detAn', 'ner': 'O', 'pos': 'DT', 'depth': 3, 'disconnected': 0, 'over_r': False, 'remaining': 45} man\n",
      "0 a {'dep': 'det', 'governorGloss': 'investment', 'dependentGloss': 'a', 'type': 'CHILD', 'position': 0.6206896551724138, 'det_gov_pos': False, 'parent_label': 'detinvestment', 'child_label': 'deta', 'ner': 'O', 'pos': 'DT', 'depth': 5, 'disconnected': 0, 'over_r': False, 'remaining': 20} investment\n",
      "1 an {'dep': 'det', 'governorGloss': 'forum', 'dependentGloss': 'an', 'type': 'CHILD', 'position': 0.39285714285714285, 'det_gov_pos': False, 'parent_label': 'detforum', 'child_label': 'detan', 'ner': 'O', 'pos': 'DT', 'depth': 4, 'disconnected': 0, 'over_r': False, 'remaining': 18} forum\n",
      "1 the {'dep': 'det', 'governorGloss': 'Association', 'dependentGloss': 'the', 'type': 'CHILD', 'position': 0.56, 'det_gov_pos': False, 'parent_label': 'detAssociation', 'child_label': 'detthe', 'ner': 'O', 'pos': 'DT', 'depth': 3, 'disconnected': 0, 'over_r': False, 'remaining': 14} Association\n",
      "1 the {'dep': 'det', 'governorGloss': 'modernization', 'dependentGloss': 'the', 'type': 'CHILD', 'position': 0.24, 'det_gov_pos': False, 'parent_label': 'detmodernization', 'child_label': 'detthe', 'ner': 'O', 'pos': 'DT', 'depth': 4, 'disconnected': 0, 'over_r': False, 'remaining': 17} modernization\n",
      "0 the {'dep': 'det', 'governorGloss': 'preparations', 'dependentGloss': 'the', 'type': 'CHILD', 'position': 0.4146341463414634, 'det_gov_pos': True, 'parent_label': 'detpreparations', 'child_label': 'detthe', 'ner': 'O', 'pos': 'DT', 'depth': 6, 'disconnected': 0, 'over_r': False, 'remaining': 26} preparations\n",
      "0 A {'dep': 'det', 'governorGloss': 'surgeon', 'dependentGloss': 'A', 'type': 'CHILD', 'position': 0.02702702702702703, 'det_gov_pos': False, 'parent_label': 'detsurgeon', 'child_label': 'detA', 'ner': 'O', 'pos': 'DT', 'depth': 4, 'disconnected': 0, 'over_r': False, 'remaining': 29} surgeon\n",
      "0 a {'dep': 'det', 'governorGloss': 'bit', 'dependentGloss': 'a', 'type': 'CHILD', 'position': 0.2903225806451613, 'det_gov_pos': False, 'parent_label': 'detbit', 'child_label': 'deta', 'ner': 'O', 'pos': 'DT', 'depth': 4, 'disconnected': 0, 'over_r': False, 'remaining': 24} bit\n",
      "0 a {'dep': 'det', 'governorGloss': 'tax', 'dependentGloss': 'a', 'type': 'CHILD', 'position': 0.9310344827586207, 'det_gov_pos': False, 'parent_label': 'dettax', 'child_label': 'deta', 'ner': 'O', 'pos': 'DT', 'depth': 3, 'disconnected': 0, 'over_r': False, 'remaining': 9} tax\n",
      "0 a {'dep': 'det', 'governorGloss': 'charge', 'dependentGloss': 'a', 'type': 'CHILD', 'position': 0.3333333333333333, 'det_gov_pos': False, 'parent_label': 'detcharge', 'child_label': 'deta', 'ner': 'O', 'pos': 'DT', 'depth': 4, 'disconnected': 0, 'over_r': False, 'remaining': 56} charge\n",
      "0 the {'dep': 'det', 'governorGloss': 'best', 'dependentGloss': 'the', 'type': 'CHILD', 'position': 0.8823529411764706, 'det_gov_pos': True, 'parent_label': 'detbest', 'child_label': 'detthe', 'ner': 'O', 'pos': 'DT', 'depth': 4, 'disconnected': 0, 'over_r': False, 'remaining': 8} best\n",
      "0 a {'dep': 'det', 'governorGloss': 'Declaration', 'dependentGloss': 'a', 'type': 'CHILD', 'position': 0.2727272727272727, 'det_gov_pos': False, 'parent_label': 'detDeclaration', 'child_label': 'deta', 'ner': 'O', 'pos': 'DT', 'depth': 3, 'disconnected': 0, 'over_r': False, 'remaining': 49} Declaration\n",
      "0 The {'dep': 'det', 'governorGloss': 'piece', 'dependentGloss': 'The', 'type': 'CHILD', 'position': 0.015873015873015872, 'det_gov_pos': False, 'parent_label': 'detpiece', 'child_label': 'detThe', 'ner': 'O', 'pos': 'DT', 'depth': 3, 'disconnected': 0, 'over_r': False, 'remaining': 25} piece\n",
      "1 The {'dep': 'det', 'governorGloss': 'Press', 'dependentGloss': 'The', 'type': 'CHILD', 'position': 0.25, 'det_gov_pos': False, 'parent_label': 'detPress', 'child_label': 'detThe', 'ner': 'O', 'pos': 'DT', 'depth': 4, 'disconnected': 0, 'over_r': False, 'remaining': 84} Press\n",
      "0 a {'dep': 'det', 'governorGloss': 'citizen', 'dependentGloss': 'a', 'type': 'CHILD', 'position': 0.7692307692307693, 'det_gov_pos': False, 'parent_label': 'detcitizen', 'child_label': 'deta', 'ner': 'O', 'pos': 'DT', 'depth': 3, 'disconnected': 0, 'over_r': False, 'remaining': 13} citizen\n",
      "1 a {'dep': 'det', 'governorGloss': 'place', 'dependentGloss': 'a', 'type': 'CHILD', 'position': 0.21428571428571427, 'det_gov_pos': False, 'parent_label': 'detplace', 'child_label': 'deta', 'ner': 'O', 'pos': 'DT', 'depth': 3, 'disconnected': 0, 'over_r': False, 'remaining': 19} place\n",
      "1 The {'dep': 'det', 'governorGloss': 'Inc.', 'dependentGloss': 'The', 'type': 'CHILD', 'position': 0.05555555555555555, 'det_gov_pos': False, 'parent_label': 'detInc.', 'child_label': 'detThe', 'ner': 'O', 'pos': 'DT', 'depth': 3, 'disconnected': 0, 'over_r': False, 'remaining': 31} Inc.\n",
      "1 a {'dep': 'det', 'governorGloss': 'grant', 'dependentGloss': 'a', 'type': 'CHILD', 'position': 0.5, 'det_gov_pos': False, 'parent_label': 'detgrant', 'child_label': 'deta', 'ner': 'O', 'pos': 'DT', 'depth': 3, 'disconnected': 0, 'over_r': False, 'remaining': 18} grant\n",
      "0 a {'dep': 'det', 'governorGloss': 'homicide', 'dependentGloss': 'a', 'type': 'CHILD', 'position': 0.2777777777777778, 'det_gov_pos': False, 'parent_label': 'dethomicide', 'child_label': 'deta', 'ner': 'O', 'pos': 'DT', 'depth': 3, 'disconnected': 0, 'over_r': False, 'remaining': 5} homicide\n",
      "1 the {'dep': 'det', 'governorGloss': 'stage', 'dependentGloss': 'the', 'type': 'CHILD', 'position': 0.2, 'det_gov_pos': False, 'parent_label': 'detstage', 'child_label': 'detthe', 'ner': 'O', 'pos': 'DT', 'depth': 3, 'disconnected': 0, 'over_r': False, 'remaining': 28} stage\n",
      "1 a {'dep': 'det', 'governorGloss': 'profit', 'dependentGloss': 'a', 'type': 'CHILD', 'position': 0.12903225806451613, 'det_gov_pos': False, 'parent_label': 'detprofit', 'child_label': 'deta', 'ner': 'O', 'pos': 'DT', 'depth': 3, 'disconnected': 0, 'over_r': False, 'remaining': 12} profit\n",
      "1 The {'dep': 'det', 'governorGloss': 'deadline', 'dependentGloss': 'The', 'type': 'CHILD', 'position': 0.041666666666666664, 'det_gov_pos': False, 'parent_label': 'detdeadline', 'child_label': 'detThe', 'ner': 'O', 'pos': 'DT', 'depth': 3, 'disconnected': 0, 'over_r': False, 'remaining': 40} deadline\n",
      "0 an {'dep': 'det', 'governorGloss': 'offer', 'dependentGloss': 'an', 'type': 'CHILD', 'position': 0.7916666666666666, 'det_gov_pos': False, 'parent_label': 'detoffer', 'child_label': 'detan', 'ner': 'O', 'pos': 'DT', 'depth': 5, 'disconnected': 0, 'over_r': False, 'remaining': 26} offer\n",
      "0 a {'dep': 'det', 'governorGloss': 'test', 'dependentGloss': 'a', 'type': 'CHILD', 'position': 0.16, 'det_gov_pos': False, 'parent_label': 'dettest', 'child_label': 'deta', 'ner': 'O', 'pos': 'DT', 'depth': 3, 'disconnected': 0, 'over_r': False, 'remaining': 11} test\n",
      "1 a {'dep': 'det', 'governorGloss': 'injury', 'dependentGloss': 'a', 'type': 'CHILD', 'position': 0.36, 'det_gov_pos': False, 'parent_label': 'detinjury', 'child_label': 'deta', 'ner': 'O', 'pos': 'DT', 'depth': 3, 'disconnected': 0, 'over_r': False, 'remaining': 10} injury\n",
      "1 a {'dep': 'det', 'governorGloss': 'deal', 'dependentGloss': 'a', 'type': 'CHILD', 'position': 0.375, 'det_gov_pos': False, 'parent_label': 'detdeal', 'child_label': 'deta', 'ner': 'O', 'pos': 'DT', 'depth': 3, 'disconnected': 0, 'over_r': False, 'remaining': 27} deal\n",
      "0 a {'dep': 'det', 'governorGloss': 'shooting', 'dependentGloss': 'a', 'type': 'CHILD', 'position': 0.6, 'det_gov_pos': False, 'parent_label': 'detshooting', 'child_label': 'deta', 'ner': 'O', 'pos': 'DT', 'depth': 5, 'disconnected': 0, 'over_r': False, 'remaining': 14} shooting\n",
      "0 a {'dep': 'det', 'governorGloss': 'message', 'dependentGloss': 'a', 'type': 'CHILD', 'position': 0.3870967741935484, 'det_gov_pos': False, 'parent_label': 'detmessage', 'child_label': 'deta', 'ner': 'O', 'pos': 'DT', 'depth': 6, 'disconnected': 0, 'over_r': False, 'remaining': 9} message\n",
      "1 the {'dep': 'det', 'governorGloss': 'shaming', 'dependentGloss': 'the', 'type': 'CHILD', 'position': 0.7027027027027027, 'det_gov_pos': False, 'parent_label': 'detshaming', 'child_label': 'detthe', 'ner': 'O', 'pos': 'DT', 'depth': 3, 'disconnected': 0, 'over_r': False, 'remaining': 14} shaming\n",
      "0 The {'dep': 'det', 'governorGloss': 'Bengals', 'dependentGloss': 'The', 'type': 'CHILD', 'position': 0.05263157894736842, 'det_gov_pos': True, 'parent_label': 'detBengals', 'child_label': 'detThe', 'ner': 'O', 'pos': 'DT', 'depth': 4, 'disconnected': 0, 'over_r': False, 'remaining': 30} Bengals\n",
      "1 the {'dep': 'det', 'governorGloss': 'Islands', 'dependentGloss': 'the', 'type': 'CHILD', 'position': 0.13636363636363635, 'det_gov_pos': True, 'parent_label': 'detIslands', 'child_label': 'detthe', 'ner': 'O', 'pos': 'DT', 'depth': 5, 'disconnected': 0, 'over_r': False, 'remaining': 7} Islands\n",
      "0 A {'dep': 'det', 'governorGloss': 'fan', 'dependentGloss': 'A', 'type': 'CHILD', 'position': 0.05263157894736842, 'det_gov_pos': False, 'parent_label': 'detfan', 'child_label': 'detA', 'ner': 'O', 'pos': 'DT', 'depth': 3, 'disconnected': 0, 'over_r': False, 'remaining': 44} fan\n",
      "1 the {'dep': 'det', 'governorGloss': 'Senators', 'dependentGloss': 'the', 'type': 'CHILD', 'position': 0.34782608695652173, 'det_gov_pos': True, 'parent_label': 'detSenators', 'child_label': 'detthe', 'ner': 'O', 'pos': 'DT', 'depth': 5, 'disconnected': 0, 'over_r': False, 'remaining': 29} Senators\n",
      "0 a {'dep': 'det', 'governorGloss': 'campaign', 'dependentGloss': 'a', 'type': 'CHILD', 'position': 0.21739130434782608, 'det_gov_pos': False, 'parent_label': 'detcampaign', 'child_label': 'deta', 'ner': 'O', 'pos': 'DT', 'depth': 3, 'disconnected': 0, 'over_r': False, 'remaining': 31} campaign\n",
      "0 A {'dep': 'det', 'governorGloss': 'man', 'dependentGloss': 'A', 'type': 'CHILD', 'position': 0.05263157894736842, 'det_gov_pos': False, 'parent_label': 'detman', 'child_label': 'detA', 'ner': 'O', 'pos': 'DT', 'depth': 4, 'disconnected': 0, 'over_r': False, 'remaining': 34} man\n",
      "1 a {'dep': 'det', 'governorGloss': 'plan', 'dependentGloss': 'a', 'type': 'CHILD', 'position': 0.35714285714285715, 'det_gov_pos': False, 'parent_label': 'detplan', 'child_label': 'deta', 'ner': 'O', 'pos': 'DT', 'depth': 3, 'disconnected': 0, 'over_r': False, 'remaining': 65} plan\n",
      "0 the {'dep': 'det', 'governorGloss': 'project', 'dependentGloss': 'the', 'type': 'CHILD', 'position': 0.3055555555555556, 'det_gov_pos': False, 'parent_label': 'detproject', 'child_label': 'detthe', 'ner': 'O', 'pos': 'DT', 'depth': 5, 'disconnected': 0, 'over_r': False, 'remaining': 16} project\n",
      "0 A {'dep': 'det', 'governorGloss': 'plane', 'dependentGloss': 'A', 'type': 'CHILD', 'position': 0.043478260869565216, 'det_gov_pos': False, 'parent_label': 'detplane', 'child_label': 'detA', 'ner': 'O', 'pos': 'DT', 'depth': 4, 'disconnected': 0, 'over_r': False, 'remaining': 19} plane\n",
      "1 a {'dep': 'det', 'governorGloss': 'shot', 'dependentGloss': 'a', 'type': 'CHILD', 'position': 0.391304347826087, 'det_gov_pos': False, 'parent_label': 'detshot', 'child_label': 'deta', 'ner': 'O', 'pos': 'DT', 'depth': 3, 'disconnected': 0, 'over_r': False, 'remaining': 14} shot\n",
      "1 The {'dep': 'det', 'governorGloss': 'Talk', 'dependentGloss': 'The', 'type': 'CHILD', 'position': 0.23076923076923078, 'det_gov_pos': False, 'parent_label': 'detTalk', 'child_label': 'detThe', 'ner': 'O', 'pos': 'DT', 'depth': 3, 'disconnected': 0, 'over_r': False, 'remaining': 5} Talk\n",
      "0 The {'dep': 'det', 'governorGloss': 'ECB', 'dependentGloss': 'The', 'type': 'CHILD', 'position': 0.041666666666666664, 'det_gov_pos': False, 'parent_label': 'detECB', 'child_label': 'detThe', 'ner': 'O', 'pos': 'DT', 'depth': 3, 'disconnected': 0, 'over_r': False, 'remaining': 25} ECB\n",
      "1 the {'dep': 'det', 'governorGloss': 'iPhone', 'dependentGloss': 'the', 'type': 'CHILD', 'position': 0.5217391304347826, 'det_gov_pos': False, 'parent_label': 'detiPhone', 'child_label': 'detthe', 'ner': 'O', 'pos': 'DT', 'depth': 4, 'disconnected': 0, 'over_r': False, 'remaining': 10} iPhone\n",
      "0 the {'dep': 'det', 'governorGloss': 'Union', 'dependentGloss': 'the', 'type': 'CHILD', 'position': 0.09523809523809523, 'det_gov_pos': False, 'parent_label': 'detUnion', 'child_label': 'detthe', 'ner': 'O', 'pos': 'DT', 'depth': 5, 'disconnected': 0, 'over_r': False, 'remaining': 15} Union\n",
      "0 a {'dep': 'det', 'governorGloss': 'moratorium', 'dependentGloss': 'a', 'type': 'CHILD', 'position': 0.2647058823529412, 'det_gov_pos': False, 'parent_label': 'detmoratorium', 'child_label': 'deta', 'ner': 'O', 'pos': 'DT', 'depth': 3, 'disconnected': 0, 'over_r': False, 'remaining': 35} moratorium\n"
     ]
    },
    {
     "data": {
      "text/plain": [
       "[('punct', 100),\n",
       " ('compound', 76),\n",
       " ('nmod', 73),\n",
       " ('amod', 55),\n",
       " ('det', 45),\n",
       " ('case', 45),\n",
       " ('dobj', 33),\n",
       " ('aux', 31),\n",
       " ('mark', 27),\n",
       " ('advcl', 20)]"
      ]
     },
     "execution_count": 131,
     "metadata": {},
     "output_type": "execute_result"
    }
   ],
   "source": [
    "confusion = []\n",
    "from collections import Counter\n",
    "from collections import defaultdict\n",
    "all_vals = defaultdict(list)\n",
    "for i in np.where(clf.predict(X_val) != y_val)[0]:\n",
    "    try:\n",
    "        if train_features[i][\"dep\"] == \"det\":\n",
    "            print(y_val[i], train_features[i]['dependentGloss'], train_features[i], train_features[i]['governorGloss'])\n",
    "        confusion.append(train_features[i]['dep'])\n",
    "    except KeyError:\n",
    "        pass\n",
    "\n",
    "Counter(confusion).most_common(10)\n"
   ]
  }
 ],
 "metadata": {
  "kernelspec": {
   "display_name": "Python 3",
   "language": "python",
   "name": "python3"
  },
  "language_info": {
   "codemirror_mode": {
    "name": "ipython",
    "version": 3
   },
   "file_extension": ".py",
   "mimetype": "text/x-python",
   "name": "python",
   "nbconvert_exporter": "python",
   "pygments_lexer": "ipython3",
   "version": "3.6.2"
  }
 },
 "nbformat": 4,
 "nbformat_minor": 2
}
