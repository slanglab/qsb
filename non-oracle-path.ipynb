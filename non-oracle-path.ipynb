{
 "cells": [
  {
   "cell_type": "code",
   "execution_count": 1,
   "metadata": {},
   "outputs": [
    {
     "name": "stdout",
     "output_type": "stream",
     "text": [
      "0.9470140978932362\n",
      "0.9546717310439\n"
     ]
    },
    {
     "ename": "NameError",
     "evalue": "name 'pick_l2r_connected' is not defined",
     "output_type": "error",
     "traceback": [
      "\u001b[0;31m-------------------\u001b[0m",
      "\u001b[0;31mNameError\u001b[0mTraceback (most recent call last)",
      "\u001b[0;32m<ipython-input-1-00d1e8d4cab3>\u001b[0m in \u001b[0;36m<module>\u001b[0;34m()\u001b[0m\n\u001b[1;32m     10\u001b[0m     \u001b[0mpaths\u001b[0m\u001b[0;34m=\u001b[0m\u001b[0mjson\u001b[0m\u001b[0;34m.\u001b[0m\u001b[0mloads\u001b[0m\u001b[0;34m(\u001b[0m\u001b[0mpaths\u001b[0m\u001b[0;34m)\u001b[0m\u001b[0;34m\u001b[0m\u001b[0m\n\u001b[1;32m     11\u001b[0m     \u001b[0msentence\u001b[0m \u001b[0;34m=\u001b[0m \u001b[0mpaths\u001b[0m\u001b[0;34m[\u001b[0m\u001b[0;34m\"sentence\"\u001b[0m\u001b[0;34m]\u001b[0m\u001b[0;34m\u001b[0m\u001b[0m\n\u001b[0;32m---> 12\u001b[0;31m     \u001b[0mpredicted\u001b[0m \u001b[0;34m=\u001b[0m \u001b[0mruntime_path_wild_frontier\u001b[0m\u001b[0;34m(\u001b[0m\u001b[0msentence\u001b[0m\u001b[0;34m,\u001b[0m \u001b[0mpi\u001b[0m\u001b[0;34m=\u001b[0m\u001b[0mpick_l2r_connected\u001b[0m\u001b[0;34m,\u001b[0m \u001b[0mclf\u001b[0m\u001b[0;34m=\u001b[0m\u001b[0mclf\u001b[0m\u001b[0;34m,\u001b[0m \u001b[0mvectorizer\u001b[0m\u001b[0;34m=\u001b[0m\u001b[0mvectorizer\u001b[0m\u001b[0;34m)\u001b[0m\u001b[0;34m\u001b[0m\u001b[0m\n\u001b[0m\u001b[1;32m     13\u001b[0m     \u001b[0mf1s\u001b[0m \u001b[0;34m=\u001b[0m \u001b[0mget_f1\u001b[0m\u001b[0;34m(\u001b[0m\u001b[0mpredicted\u001b[0m\u001b[0;34m,\u001b[0m \u001b[0msentence\u001b[0m\u001b[0;34m)\u001b[0m\u001b[0;34m\u001b[0m\u001b[0m\n\u001b[1;32m     14\u001b[0m     \u001b[0mtot\u001b[0m \u001b[0;34m+=\u001b[0m \u001b[0mf1s\u001b[0m\u001b[0;34m\u001b[0m\u001b[0m\n",
      "\u001b[0;31mNameError\u001b[0m: name 'pick_l2r_connected' is not defined"
     ]
    }
   ],
   "source": [
    "import json\n",
    "import numpy as np\n",
    "\n",
    "from bottom_up.all import train_clf, runtime_path_wild_frontier, get_f1\n",
    "\n",
    "clf, vectorizer = train_clf()\n",
    "\n",
    "tot = 0\n",
    "for pno, paths in enumerate(open(\"validation.paths\", \"r\")):\n",
    "    paths=json.loads(paths)\n",
    "    sentence = paths[\"sentence\"]\n",
    "    predicted = runtime_path_wild_frontier(sentence, pi=pick_l2r_connected, clf=clf, vectorizer=vectorizer)\n",
    "    f1s = get_f1(predicted, sentence)\n",
    "    tot += f1s\n",
    "print(tot/(pno + 1))"
   ]
  },
  {
   "cell_type": "code",
   "execution_count": 186,
   "metadata": {},
   "outputs": [
    {
     "name": "stdout",
     "output_type": "stream",
     "text": [
      "0.7480967917346384\n",
      "1853\n"
     ]
    }
   ],
   "source": [
    "\n",
    "### this is just debugging code\n",
    "\n",
    "confusion = []\n",
    "from collections import Counter\n",
    "from collections import defaultdict\n",
    "all_vals = defaultdict(list)\n",
    "scr = clf.predict(X_train)\n",
    "o = 0\n",
    "h = 0\n",
    "tot = []\n",
    "big_list = []\n",
    "big_list_sentences = []\n",
    "\n",
    "for paths in training_paths:\n",
    "    paths=json.loads(paths)\n",
    "    s = paths[\"sentence\"]\n",
    "    for p in paths[\"paths\"]:\n",
    "        current_tree, vertex, decision = p\n",
    "        if vertex != 0:  \n",
    "            big_list.append(p)\n",
    "            big_list_sentences.append(s)\n",
    "        \n",
    "\n",
    "for ino, i in enumerate(train_features):\n",
    "    if 'dep' in i and i[\"dep\"] == \"amod\":\n",
    "        o += 1\n",
    "        if scr[ino] == y_train[ino]:\n",
    "            h += 1\n",
    "        else:\n",
    "            tot.append((scr[ino], y_train[ino], big_list_sentences[ino],train_features[ino], big_list[ino]))\n",
    "print(h/(len(tot) + h))\n",
    "print(len(tot))\n",
    "\n",
    "\n",
    "hits = 0\n",
    "govs = defaultdict(int)\n",
    "import string\n",
    "punct = [_ for _ in string.punctuation]\n",
    "alls= []\n",
    "for t in tot:\n",
    "    pred, was, s, feats, path = t\n",
    "    current_tree, vertex, decision = path\n",
    "    current_tree.sort()\n",
    "    governed = [_[\"dep\"] for _ in s[\"basicDependencies\"] if _[\"dependent\"] == vertex]\n",
    "    for g in governed:\n",
    "        govs[g] += 1\n",
    "    if(pred == 0 and was == 1):\n",
    "        print(feats,pred,was)\n",
    "        \n",
    "        \n",
    "Counter(alls).most_common()\n",
    "#print(hits)\n",
    "#print(len(tot))\n",
    "#print(sum(govs.values()))"
   ]
  }
 ],
 "metadata": {
  "kernelspec": {
   "display_name": "Python 3",
   "language": "python",
   "name": "python3"
  }
 },
 "nbformat": 4,
 "nbformat_minor": 2
}
