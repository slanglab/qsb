{
 "cells": [
  {
   "cell_type": "code",
   "execution_count": 18,
   "metadata": {},
   "outputs": [
    {
     "name": "stdout",
     "output_type": "stream",
     "text": [
      "The autoreload extension is already loaded. To reload it, use:\n",
      "  %reload_ext autoreload\n"
     ]
    }
   ],
   "source": [
    "import json\n",
    "import numpy as np\n",
    "from bottom_up.all import pick_bfs_connected\n",
    "from bottom_up.all import get_lr\n",
    "from bottom_up.all import get_dependents\n",
    "from bottom_up.all import get_f1\n",
    "from bottom_up.all import featurize_ultra_local\n",
    "from bottom_up.all import get_local_feats\n",
    "from bottom_up.all import get_global_feats\n",
    "from bottom_up.all import featurize_parent_proposal\n",
    "from bottom_up.all import pick_l2r_connected\n",
    "from bottom_up.all import featurize_child_proposal\n",
    "from sklearn.linear_model import LogisticRegression\n",
    "from sklearn.feature_extraction import DictVectorizer\n",
    "from code.printers import pretty_print_conl\n",
    "from bottom_up.all import pick_bfs_connected\n",
    "from bottom_up.all import len_tree\n",
    "%load_ext autoreload\n",
    "\n",
    "%autoreload 2"
   ]
  },
  {
   "cell_type": "code",
   "execution_count": 8,
   "metadata": {},
   "outputs": [
    {
     "name": "stderr",
     "output_type": "stream",
     "text": [
      "/Users/ahandler/.virtualenvs/p3/lib/python3.6/site-packages/sklearn/base.py:311: UserWarning: Trying to unpickle estimator LogisticRegression from version 0.20.2 when using version 0.19.1. This might lead to breaking code or invalid results. Use at your own risk.\n",
      "  UserWarning)\n",
      "/Users/ahandler/.virtualenvs/p3/lib/python3.6/site-packages/sklearn/base.py:311: UserWarning: Trying to unpickle estimator DictVectorizer from version 0.20.2 when using version 0.19.1. This might lead to breaking code or invalid results. Use at your own risk.\n",
      "  UserWarning)\n"
     ]
    }
   ],
   "source": [
    "import pickle\n",
    "with open(\"a\", \"rb\") as inf:\n",
    "    dt = pickle.load(inf)\n",
    "    \n",
    "clf, vectorizer = dt"
   ]
  },
  {
   "cell_type": "code",
   "execution_count": 216,
   "metadata": {},
   "outputs": [
    {
     "ename": "AttributeError",
     "evalue": "'DictVectorizer' object has no attribute 'feature_names_'",
     "output_type": "error",
     "traceback": [
      "\u001b[0;31m-----\u001b[0m",
      "\u001b[0;31mAttributeError\u001b[0mTraceback (most recent call last)",
      "\u001b[0;32m<ipython-input-216-74cf25fe68dc>\u001b[0m in \u001b[0;36m<module>\u001b[0;34m()\u001b[0m\n\u001b[1;32m     46\u001b[0m     \u001b[0mpaths\u001b[0m\u001b[0;34m=\u001b[0m\u001b[0mjson\u001b[0m\u001b[0;34m.\u001b[0m\u001b[0mloads\u001b[0m\u001b[0;34m(\u001b[0m\u001b[0mpaths\u001b[0m\u001b[0;34m)\u001b[0m\u001b[0;34m\u001b[0m\u001b[0m\n\u001b[1;32m     47\u001b[0m     \u001b[0msentence\u001b[0m \u001b[0;34m=\u001b[0m \u001b[0mpaths\u001b[0m\u001b[0;34m[\u001b[0m\u001b[0;34m\"sentence\"\u001b[0m\u001b[0;34m]\u001b[0m\u001b[0;34m\u001b[0m\u001b[0m\n\u001b[0;32m---> 48\u001b[0;31m     \u001b[0mpredicted\u001b[0m \u001b[0;34m=\u001b[0m \u001b[0mruntime_path_wild_frontier\u001b[0m\u001b[0;34m(\u001b[0m\u001b[0msentence\u001b[0m\u001b[0;34m,\u001b[0m \u001b[0mpi\u001b[0m\u001b[0;34m=\u001b[0m\u001b[0mpick_l2r_connected\u001b[0m\u001b[0;34m,\u001b[0m \u001b[0mclf\u001b[0m\u001b[0;34m=\u001b[0m\u001b[0mclf\u001b[0m\u001b[0;34m,\u001b[0m \u001b[0mvectorizer\u001b[0m\u001b[0;34m=\u001b[0m\u001b[0mvectorizer\u001b[0m\u001b[0;34m)\u001b[0m\u001b[0;34m\u001b[0m\u001b[0m\n\u001b[0m\u001b[1;32m     49\u001b[0m     \u001b[0mf1s\u001b[0m \u001b[0;34m=\u001b[0m \u001b[0mget_f1\u001b[0m\u001b[0;34m(\u001b[0m\u001b[0mpredicted\u001b[0m\u001b[0;34m,\u001b[0m \u001b[0msentence\u001b[0m\u001b[0;34m)\u001b[0m\u001b[0;34m\u001b[0m\u001b[0m\n\u001b[1;32m     50\u001b[0m     \u001b[0mtot\u001b[0m \u001b[0;34m+=\u001b[0m \u001b[0mf1s\u001b[0m\u001b[0;34m\u001b[0m\u001b[0m\n",
      "\u001b[0;32m<ipython-input-216-74cf25fe68dc>\u001b[0m in \u001b[0;36mruntime_path_wild_frontier\u001b[0;34m(sentence, pi, clf, vectorizer, verbose)\u001b[0m\n\u001b[1;32m     24\u001b[0m             \u001b[0mfeats\u001b[0m \u001b[0;34m=\u001b[0m \u001b[0mget_global_feats\u001b[0m\u001b[0;34m(\u001b[0m\u001b[0msentence\u001b[0m\u001b[0;34m=\u001b[0m\u001b[0msentence\u001b[0m\u001b[0;34m,\u001b[0m \u001b[0mfeats\u001b[0m\u001b[0;34m=\u001b[0m\u001b[0mfeats\u001b[0m\u001b[0;34m,\u001b[0m \u001b[0mvertex\u001b[0m\u001b[0;34m=\u001b[0m\u001b[0mvertex\u001b[0m\u001b[0;34m,\u001b[0m \u001b[0mcurrent_tree\u001b[0m\u001b[0;34m=\u001b[0m\u001b[0mT\u001b[0m\u001b[0;34m)\u001b[0m\u001b[0;34m\u001b[0m\u001b[0m\n\u001b[1;32m     25\u001b[0m \u001b[0;34m\u001b[0m\u001b[0m\n\u001b[0;32m---> 26\u001b[0;31m             \u001b[0mX\u001b[0m \u001b[0;34m=\u001b[0m \u001b[0mvectorizer\u001b[0m\u001b[0;34m.\u001b[0m\u001b[0mtransform\u001b[0m\u001b[0;34m(\u001b[0m\u001b[0;34m[\u001b[0m\u001b[0mfeats\u001b[0m\u001b[0;34m]\u001b[0m\u001b[0;34m)\u001b[0m\u001b[0;34m\u001b[0m\u001b[0m\n\u001b[0m\u001b[1;32m     27\u001b[0m             \u001b[0mpred\u001b[0m \u001b[0;34m=\u001b[0m \u001b[0mclf\u001b[0m\u001b[0;34m.\u001b[0m\u001b[0mpredict_proba\u001b[0m\u001b[0;34m(\u001b[0m\u001b[0mX\u001b[0m\u001b[0;34m)\u001b[0m\u001b[0;34m[\u001b[0m\u001b[0;36m0\u001b[0m\u001b[0;34m]\u001b[0m\u001b[0;34m\u001b[0m\u001b[0m\n\u001b[1;32m     28\u001b[0m             \u001b[0my\u001b[0m \u001b[0;34m=\u001b[0m \u001b[0mclf\u001b[0m\u001b[0;34m.\u001b[0m\u001b[0mpredict\u001b[0m\u001b[0;34m(\u001b[0m\u001b[0mX\u001b[0m\u001b[0;34m)\u001b[0m\u001b[0;34m[\u001b[0m\u001b[0;36m0\u001b[0m\u001b[0;34m]\u001b[0m\u001b[0;34m\u001b[0m\u001b[0m\n",
      "\u001b[0;32m~/.virtualenvs/p3/lib/python3.6/site-packages/sklearn/feature_extraction/dict_vectorizer.py\u001b[0m in \u001b[0;36mtransform\u001b[0;34m(self, X)\u001b[0m\n\u001b[1;32m    289\u001b[0m         \"\"\"\n\u001b[1;32m    290\u001b[0m         \u001b[0;32mif\u001b[0m \u001b[0mself\u001b[0m\u001b[0;34m.\u001b[0m\u001b[0msparse\u001b[0m\u001b[0;34m:\u001b[0m\u001b[0;34m\u001b[0m\u001b[0m\n\u001b[0;32m--> 291\u001b[0;31m             \u001b[0;32mreturn\u001b[0m \u001b[0mself\u001b[0m\u001b[0;34m.\u001b[0m\u001b[0m_transform\u001b[0m\u001b[0;34m(\u001b[0m\u001b[0mX\u001b[0m\u001b[0;34m,\u001b[0m \u001b[0mfitting\u001b[0m\u001b[0;34m=\u001b[0m\u001b[0;32mFalse\u001b[0m\u001b[0;34m)\u001b[0m\u001b[0;34m\u001b[0m\u001b[0m\n\u001b[0m\u001b[1;32m    292\u001b[0m \u001b[0;34m\u001b[0m\u001b[0m\n\u001b[1;32m    293\u001b[0m         \u001b[0;32melse\u001b[0m\u001b[0;34m:\u001b[0m\u001b[0;34m\u001b[0m\u001b[0m\n",
      "\u001b[0;32m~/.virtualenvs/p3/lib/python3.6/site-packages/sklearn/feature_extraction/dict_vectorizer.py\u001b[0m in \u001b[0;36m_transform\u001b[0;34m(self, X, fitting)\u001b[0m\n\u001b[1;32m    149\u001b[0m             \u001b[0mvocab\u001b[0m \u001b[0;34m=\u001b[0m \u001b[0;34m{\u001b[0m\u001b[0;34m}\u001b[0m\u001b[0;34m\u001b[0m\u001b[0m\n\u001b[1;32m    150\u001b[0m         \u001b[0;32melse\u001b[0m\u001b[0;34m:\u001b[0m\u001b[0;34m\u001b[0m\u001b[0m\n\u001b[0;32m--> 151\u001b[0;31m             \u001b[0mfeature_names\u001b[0m \u001b[0;34m=\u001b[0m \u001b[0mself\u001b[0m\u001b[0;34m.\u001b[0m\u001b[0mfeature_names_\u001b[0m\u001b[0;34m\u001b[0m\u001b[0m\n\u001b[0m\u001b[1;32m    152\u001b[0m             \u001b[0mvocab\u001b[0m \u001b[0;34m=\u001b[0m \u001b[0mself\u001b[0m\u001b[0;34m.\u001b[0m\u001b[0mvocabulary_\u001b[0m\u001b[0;34m\u001b[0m\u001b[0m\n\u001b[1;32m    153\u001b[0m \u001b[0;34m\u001b[0m\u001b[0m\n",
      "\u001b[0;31mAttributeError\u001b[0m: 'DictVectorizer' object has no attribute 'feature_names_'"
     ]
    }
   ],
   "source": [
    "def pick_at_random(l, **kwargs):\n",
    "    return random.sample(l, 1)[0]\n",
    "\n",
    "from code.treeops import bfs\n",
    "from bottom_up.all import pick_bfs\n",
    "from bottom_up.all import get_dependents_and_governors\n",
    "import random\n",
    "\n",
    "def runtime_path_wild_frontier(sentence, pi, clf, vectorizer, verbose=False):\n",
    "    T = {i for i in sentence[\"q\"]}\n",
    "    F = set()\n",
    "    \n",
    "    # init frontier\n",
    "    for v in T:\n",
    "        for i in sentence[\"tokens\"]:\n",
    "            F.add(i[\"index\"])\n",
    "\n",
    "    d, heads, c = bfs(g=sentence, hop_s=0) \n",
    "    while len(F) > 0:\n",
    "        vertex = pi(F=F, d=d, T=T, s=sentence)\n",
    "\n",
    "        if vertex != 0: # bug here?\n",
    "            feats = get_local_feats(vertex=vertex, sentence=sentence, d=d, current_tree=T)\n",
    "            feats = get_global_feats(sentence=sentence, feats=feats, vertex=vertex, current_tree=T)\n",
    "\n",
    "            X = vectorizer.transform([feats])\n",
    "            pred = clf.predict_proba(X)[0]\n",
    "            y = clf.predict(X)[0]\n",
    "\n",
    "            if y == 1:\n",
    "                T.add(vertex)\n",
    "                if vertex != 0:\n",
    "                    for i in get_dependents_and_governors(vertex, sentence, T):\n",
    "                        if i not in T and i is not None:\n",
    "                            F.add(i)\n",
    "                else:\n",
    "                    for i in get_dependents(sentence, vertex):\n",
    "                        if i[\"dependent\"] not in T and i is not None:\n",
    "                            F.add(i)\n",
    "        F.remove(vertex)\n",
    "\n",
    "    return T\n",
    "\n",
    "tot = 0\n",
    "for pno, paths in enumerate(validation_paths):\n",
    "    paths=json.loads(paths)\n",
    "    sentence = paths[\"sentence\"]\n",
    "    predicted = runtime_path_wild_frontier(sentence, pi=pick_l2r_connected, clf=clf, vectorizer=vectorizer)\n",
    "    f1s = get_f1(predicted, sentence)\n",
    "    tot += f1s\n",
    "print(tot/len(validation_paths))"
   ]
  },
  {
   "cell_type": "code",
   "execution_count": null,
   "metadata": {},
   "outputs": [],
   "source": [
    "from bottom_up.all import get_labels_and_features\n",
    "from bottom_up.all import get_governor\n",
    "\n",
    "import json\n",
    "import pickle\n",
    "import numpy as np\n",
    "from bottom_up.all import get_lr\n",
    "from bottom_up.all import get_dependents\n",
    "from bottom_up.all import get_f1\n",
    "from bottom_up.all import featurize_ultra_local\n",
    "from bottom_up.all import featurize_parent_proposal\n",
    "from bottom_up.all import featurize_child_proposal\n",
    "from sklearn.linear_model import LogisticRegression\n",
    "from sklearn.feature_extraction import DictVectorizer\n",
    "from code.printers import pretty_print_conl\n",
    "from bottom_up.all import len_tree\n",
    "\n",
    "training_paths = [_ for _ in open(\"training.paths\")]\n",
    "validation_paths = [_ for _ in open(\"validation.paths\")]\n",
    "\n",
    "\n",
    "vectorizer = DictVectorizer(sparse=True)\n",
    "\n",
    "train_features, train_labels = get_labels_and_features(training_paths)\n",
    "\n",
    "X_train = vectorizer.fit_transform(train_features)\n",
    "\n",
    "y_train = np.asarray(train_labels)\n",
    "\n",
    "val_features, val_labels = get_labels_and_features(validation_paths)\n",
    "\n",
    "X_val = vectorizer.transform(val_features)\n",
    "\n",
    "y_val = np.asarray(val_labels)\n",
    "\n",
    "clf = LogisticRegression(random_state=0,\n",
    "                         solver='lbfgs',\n",
    "                         C=.5,\n",
    "                         multi_class='ovr').fit(X_train, y_train)\n",
    "\n",
    "print(clf.score(X_val,y_val))\n",
    "print(clf.score(X_train, y_train))"
   ]
  },
  {
   "cell_type": "code",
   "execution_count": 406,
   "metadata": {},
   "outputs": [
    {
     "data": {
      "text/plain": [
       "0.9885960637300844"
      ]
     },
     "execution_count": 406,
     "metadata": {},
     "output_type": "execute_result"
    }
   ],
   "source": [
    "confusion = []\n",
    "from collections import Counter\n",
    "from collections import defaultdict\n",
    "all_vals = defaultdict(list)\n",
    "scr = clf.predict(X_train)\n",
    "o = 0\n",
    "h = 0\n",
    "tot = []\n",
    "big_list = []\n",
    "big_list_sentences = []\n",
    "\n",
    "for paths in training_paths:\n",
    "    paths=json.loads(paths)\n",
    "    s = paths[\"sentence\"]\n",
    "    for p in paths[\"paths\"]:\n",
    "        current_tree, vertex, decision = p\n",
    "        if vertex != 0:  \n",
    "            big_list.append(p)\n",
    "            big_list_sentences.append(s)\n",
    "        \n",
    "\n",
    "for ino, i in enumerate(train_features):\n",
    "    if i[\"disconnected\"]:\n",
    "        o += 1\n",
    "        if scr[ino] == y_train[ino]:\n",
    "            h += 1\n",
    "        else:\n",
    "            tot.append((scr[ino], y_train[ino], big_list_sentences[ino], big_list[ino]))\n",
    "h/(len(tot) + h)"
   ]
  },
  {
   "cell_type": "code",
   "execution_count": 408,
   "metadata": {},
   "outputs": [
    {
     "name": "stdout",
     "output_type": "stream",
     "text": [
      "defaultdict(<class 'int'>, {'amod': 22, 'nsubj': 50, 'ccomp': 7, 'advcl': 3, 'nmod': 47, 'compound': 26, 'acl': 4, 'dobj': 20, 'xcomp': 7, 'nmod:tmod': 5, 'mark': 4, 'det': 4, 'cc:preconj': 1, 'nummod': 13, 'dep': 8, 'case': 9, 'cc': 7, 'advmod': 6, 'cop': 1, 'punct': 6, 'nmod:poss': 1, 'mwe': 2, 'compound:prt': 1})\n",
      "0\n",
      "0.0\n"
     ]
    }
   ],
   "source": [
    "from bottom_up.all import current_compression_has_verb, gov_is_verb, gov_of_proposed_is_verb_and_current_compression_no_verb\n",
    "hits = 0\n",
    "govs = defaultdict(int)\n",
    "for t in tot:\n",
    "\n",
    "    pred, was, s, path = t\n",
    "    current_tree, vertex, decision = path\n",
    "    current_tree.sort()\n",
    "    \n",
    "    try:\n",
    "        governed = [_[\"dep\"] for _ in s[\"basicDependencies\"] if _[\"governor\"] == vertex]\n",
    "    \n",
    "        #print(n_verbs_in_s(s))\n",
    "        govs[governed[0]] += 1\n",
    "    except:\n",
    "        pass\n",
    "    if governed == \"nsubj\":\n",
    "        break\n",
    "    \n",
    "print(govs)\n",
    "print(hits)\n",
    "print(hits/len(tot))"
   ]
  },
  {
   "cell_type": "code",
   "execution_count": 398,
   "metadata": {},
   "outputs": [
    {
     "name": "stdout",
     "output_type": "stream",
     "text": [
      "[1, 4] 5 0 1\n",
      "1\tApple\t<-nsubj-\tposted\n",
      "2\t's\t<-case-\tApple\n",
      "3\tjust\t<-advmod-\tposted\n",
      "4\tposted\t<-ROOT-\tROOT\n",
      "5\ttheir\t<-nmod:poss-\tresults\n",
      "6\t3rd\t<-amod-\tresults\n",
      "7\tquarter\t<-compound-\tresults\n",
      "8\tresults\t<-nsubj-\tdizzang\n",
      "9\tand\t<-cc-\tresults\n",
      "10\tthe\t<-det-\tresults\n",
      "11\tresults\t<-conj-\tresults\n",
      "12\tare\t<-cop-\tdizzang\n",
      "13\t:\t<-punct-\tdizzang\n",
      "14\tdizzang\t<-ccomp-\tposted\n",
      "15\t!\t<-punct-\tposted\n",
      "[1, 4, 5, 6, 7, 8]\n"
     ]
    }
   ],
   "source": [
    "print(current_tree, vertex, pred, was)\n",
    "pretty_print_conl(s)\n",
    "print(s[\"compression_indexes\"])"
   ]
  }
 ],
 "metadata": {
  "kernelspec": {
   "display_name": "Python 3",
   "language": "python",
   "name": "python3"
  },
  "language_info": {
   "codemirror_mode": {
    "name": "ipython",
    "version": 3
   },
   "file_extension": ".py",
   "mimetype": "text/x-python",
   "name": "python",
   "nbconvert_exporter": "python",
   "pygments_lexer": "ipython3",
   "version": "3.6.2"
  }
 },
 "nbformat": 4,
 "nbformat_minor": 2
}
