{
 "cells": [
  {
   "cell_type": "code",
   "execution_count": 18,
   "metadata": {},
   "outputs": [
    {
     "name": "stdout",
     "output_type": "stream",
     "text": [
      "The autoreload extension is already loaded. To reload it, use:\n",
      "  %reload_ext autoreload\n"
     ]
    }
   ],
   "source": [
    "import json\n",
    "import numpy as np\n",
    "from bottom_up.all import pick_bfs_connected\n",
    "from bottom_up.all import get_lr\n",
    "from bottom_up.all import get_dependents\n",
    "from bottom_up.all import get_f1\n",
    "from bottom_up.all import featurize_ultra_local\n",
    "from bottom_up.all import get_local_feats\n",
    "from bottom_up.all import get_global_feats\n",
    "from bottom_up.all import featurize_parent_proposal\n",
    "from bottom_up.all import pick_l2r_connected\n",
    "from bottom_up.all import featurize_child_proposal\n",
    "from sklearn.linear_model import LogisticRegression\n",
    "from sklearn.feature_extraction import DictVectorizer\n",
    "from code.printers import pretty_print_conl\n",
    "from bottom_up.all import pick_bfs_connected\n",
    "from bottom_up.all import len_tree\n",
    "%load_ext autoreload\n",
    "\n",
    "%autoreload 2"
   ]
  },
  {
   "cell_type": "code",
   "execution_count": 8,
   "metadata": {},
   "outputs": [
    {
     "name": "stderr",
     "output_type": "stream",
     "text": [
      "/Users/ahandler/.virtualenvs/p3/lib/python3.6/site-packages/sklearn/base.py:311: UserWarning: Trying to unpickle estimator LogisticRegression from version 0.20.2 when using version 0.19.1. This might lead to breaking code or invalid results. Use at your own risk.\n",
      "  UserWarning)\n",
      "/Users/ahandler/.virtualenvs/p3/lib/python3.6/site-packages/sklearn/base.py:311: UserWarning: Trying to unpickle estimator DictVectorizer from version 0.20.2 when using version 0.19.1. This might lead to breaking code or invalid results. Use at your own risk.\n",
      "  UserWarning)\n"
     ]
    }
   ],
   "source": [
    "import pickle\n",
    "with open(\"a\", \"rb\") as inf:\n",
    "    dt = pickle.load(inf)\n",
    "    \n",
    "clf, vectorizer = dt"
   ]
  },
  {
   "cell_type": "code",
   "execution_count": 410,
   "metadata": {},
   "outputs": [
    {
     "name": "stdout",
     "output_type": "stream",
     "text": [
      "0.8338651182073651\n"
     ]
    }
   ],
   "source": [
    "def pick_at_random(l, **kwargs):\n",
    "    return random.sample(l, 1)[0]\n",
    "\n",
    "from code.treeops import bfs\n",
    "from bottom_up.all import pick_bfs\n",
    "from bottom_up.all import get_dependents_and_governors\n",
    "import random\n",
    "\n",
    "def runtime_path_wild_frontier(sentence, pi, clf, vectorizer, verbose=False):\n",
    "    T = {i for i in sentence[\"q\"]}\n",
    "    F = set()\n",
    "    \n",
    "    # init frontier\n",
    "    for v in T:\n",
    "        for i in sentence[\"tokens\"]:\n",
    "            F.add(i[\"index\"])\n",
    "\n",
    "    d, heads, c = bfs(g=sentence, hop_s=0) \n",
    "    while len(F) > 0:\n",
    "        vertex = pi(F=F, d=d, T=T, s=sentence)\n",
    "\n",
    "        if vertex != 0: # bug here?\n",
    "            feats = get_local_feats(vertex=vertex, sentence=sentence, d=d, current_tree=T)\n",
    "            feats = get_global_feats(sentence=sentence, feats=feats, vertex=vertex, current_tree=T)\n",
    "\n",
    "            X = vectorizer.transform([feats])\n",
    "            pred = clf.predict_proba(X)[0]\n",
    "            y = clf.predict(X)[0]\n",
    "\n",
    "            if y == 1:\n",
    "                T.add(vertex)\n",
    "                if vertex != 0:\n",
    "                    for i in get_dependents_and_governors(vertex, sentence, T):\n",
    "                        if i not in T and i is not None:\n",
    "                            F.add(i)\n",
    "                else:\n",
    "                    for i in get_dependents(sentence, vertex):\n",
    "                        if i[\"dependent\"] not in T and i is not None:\n",
    "                            F.add(i)\n",
    "        F.remove(vertex)\n",
    "\n",
    "    return T\n",
    "\n",
    "tot = 0\n",
    "for pno, paths in enumerate(validation_paths):\n",
    "    paths=json.loads(paths)\n",
    "    sentence = paths[\"sentence\"]\n",
    "    predicted = runtime_path_wild_frontier(sentence, pi=pick_l2r_connected, clf=clf, vectorizer=vectorizer)\n",
    "    f1s = get_f1(predicted, sentence)\n",
    "    tot += f1s\n",
    "print(tot/len(validation_paths))"
   ]
  },
  {
   "cell_type": "code",
   "execution_count": 487,
   "metadata": {},
   "outputs": [
    {
     "name": "stdout",
     "output_type": "stream",
     "text": [
      "din\n",
      "din\n",
      "din\n",
      "din\n",
      "din\n",
      "din\n",
      "din\n",
      "din\n",
      "din\n",
      "din\n",
      "din\n",
      "din\n",
      "din\n",
      "din\n",
      "din\n",
      "din\n",
      "din\n",
      "din\n",
      "din\n",
      "din\n",
      "din\n",
      "din\n",
      "din\n",
      "din\n",
      "din\n",
      "din\n",
      "din\n",
      "din\n",
      "din\n",
      "din\n",
      "din\n",
      "din\n",
      "din\n",
      "din\n",
      "din\n",
      "din\n",
      "din\n",
      "din\n",
      "din\n",
      "din\n",
      "din\n",
      "din\n",
      "din\n",
      "din\n",
      "din\n",
      "din\n",
      "din\n",
      "din\n",
      "din\n",
      "din\n",
      "din\n",
      "din\n",
      "din\n",
      "din\n",
      "din\n",
      "din\n",
      "din\n",
      "din\n",
      "din\n",
      "din\n"
     ]
    },
    {
     "ename": "KeyboardInterrupt",
     "evalue": "",
     "output_type": "error",
     "traceback": [
      "\u001b[0;31m--\u001b[0m",
      "\u001b[0;31mKeyboardInterrupt\u001b[0mTraceback (most recent call last)",
      "\u001b[0;32m<ipython-input-487-ae6cf99e0269>\u001b[0m in \u001b[0;36m<module>\u001b[0;34m()\u001b[0m\n\u001b[1;32m     28\u001b[0m \u001b[0my_train\u001b[0m \u001b[0;34m=\u001b[0m \u001b[0mnp\u001b[0m\u001b[0;34m.\u001b[0m\u001b[0masarray\u001b[0m\u001b[0;34m(\u001b[0m\u001b[0mtrain_labels\u001b[0m\u001b[0;34m)\u001b[0m\u001b[0;34m\u001b[0m\u001b[0m\n\u001b[1;32m     29\u001b[0m \u001b[0;34m\u001b[0m\u001b[0m\n\u001b[0;32m---> 30\u001b[0;31m \u001b[0mval_features\u001b[0m\u001b[0;34m,\u001b[0m \u001b[0mval_labels\u001b[0m \u001b[0;34m=\u001b[0m \u001b[0mget_labels_and_features\u001b[0m\u001b[0;34m(\u001b[0m\u001b[0mvalidation_paths\u001b[0m\u001b[0;34m)\u001b[0m\u001b[0;34m\u001b[0m\u001b[0m\n\u001b[0m\u001b[1;32m     31\u001b[0m \u001b[0;34m\u001b[0m\u001b[0m\n\u001b[1;32m     32\u001b[0m \u001b[0mX_val\u001b[0m \u001b[0;34m=\u001b[0m \u001b[0mvectorizer\u001b[0m\u001b[0;34m.\u001b[0m\u001b[0mtransform\u001b[0m\u001b[0;34m(\u001b[0m\u001b[0mval_features\u001b[0m\u001b[0;34m)\u001b[0m\u001b[0;34m\u001b[0m\u001b[0m\n",
      "\u001b[0;32m~/research/qsr/bottom_up/all.py\u001b[0m in \u001b[0;36mget_labels_and_features\u001b[0;34m(list_of_paths)\u001b[0m\n\u001b[1;32m    168\u001b[0m             \u001b[0;32mif\u001b[0m \u001b[0mvertex\u001b[0m \u001b[0;34m!=\u001b[0m \u001b[0;36m0\u001b[0m\u001b[0;34m:\u001b[0m\u001b[0;34m\u001b[0m\u001b[0m\n\u001b[1;32m    169\u001b[0m                 \u001b[0mfeats\u001b[0m \u001b[0;34m=\u001b[0m \u001b[0mget_local_feats\u001b[0m\u001b[0;34m(\u001b[0m\u001b[0mvertex\u001b[0m\u001b[0;34m,\u001b[0m \u001b[0msentence\u001b[0m\u001b[0;34m,\u001b[0m \u001b[0md\u001b[0m\u001b[0;34m,\u001b[0m \u001b[0mcurrent_tree\u001b[0m\u001b[0;34m)\u001b[0m\u001b[0;34m\u001b[0m\u001b[0m\n\u001b[0;32m--> 170\u001b[0;31m \u001b[0;34m\u001b[0m\u001b[0m\n\u001b[0m\u001b[1;32m    171\u001b[0m                 \u001b[0;31m# global features\u001b[0m\u001b[0;34m\u001b[0m\u001b[0;34m\u001b[0m\u001b[0m\n\u001b[1;32m    172\u001b[0m                 \u001b[0mfeats\u001b[0m \u001b[0;34m=\u001b[0m \u001b[0mget_global_feats\u001b[0m\u001b[0;34m(\u001b[0m\u001b[0msentence\u001b[0m\u001b[0;34m,\u001b[0m \u001b[0mfeats\u001b[0m\u001b[0;34m,\u001b[0m \u001b[0mvertex\u001b[0m\u001b[0;34m,\u001b[0m \u001b[0mcurrent_tree\u001b[0m\u001b[0;34m)\u001b[0m\u001b[0;34m\u001b[0m\u001b[0m\n",
      "\u001b[0;32m~/research/qsr/bottom_up/all.py\u001b[0m in \u001b[0;36mget_local_feats\u001b[0;34m(vertex, sentence, d, current_tree)\u001b[0m\n\u001b[1;32m    136\u001b[0m         \u001b[0mfeats\u001b[0m\u001b[0;34m[\u001b[0m\u001b[0;34m\"disconnected\"\u001b[0m\u001b[0;34m]\u001b[0m \u001b[0;34m=\u001b[0m \u001b[0;36m1\u001b[0m\u001b[0;34m\u001b[0m\u001b[0m\n\u001b[1;32m    137\u001b[0m         \u001b[0mfeats\u001b[0m\u001b[0;34m[\u001b[0m\u001b[0;34m\"gov_is_root\"\u001b[0m\u001b[0;34m]\u001b[0m \u001b[0;34m=\u001b[0m \u001b[0mgovernor\u001b[0m \u001b[0;34m==\u001b[0m \u001b[0;36m0\u001b[0m\u001b[0;34m\u001b[0m\u001b[0m\n\u001b[0;32m--> 138\u001b[0;31m         \u001b[0mverby\u001b[0m \u001b[0;34m=\u001b[0m \u001b[0mgov_of_proposed_is_verb_and_current_compression_no_verb\u001b[0m\u001b[0;34m(\u001b[0m\u001b[0msentence\u001b[0m\u001b[0;34m,\u001b[0m \u001b[0mvertex\u001b[0m\u001b[0;34m,\u001b[0m \u001b[0mcurrent_tree\u001b[0m\u001b[0;34m)\u001b[0m\u001b[0;34m\u001b[0m\u001b[0m\n\u001b[0m\u001b[1;32m    139\u001b[0m         \u001b[0mfeats\u001b[0m\u001b[0;34m[\u001b[0m\u001b[0;34m\"proposed_governed_by_verb\"\u001b[0m\u001b[0;34m]\u001b[0m \u001b[0;34m=\u001b[0m \u001b[0mverby\u001b[0m\u001b[0;34m\u001b[0m\u001b[0m\n\u001b[1;32m    140\u001b[0m         \u001b[0mfeats\u001b[0m\u001b[0;34m[\u001b[0m\u001b[0;34m\"is_next_tok\"\u001b[0m\u001b[0;34m]\u001b[0m \u001b[0;34m=\u001b[0m \u001b[0mvertex\u001b[0m \u001b[0;34m==\u001b[0m \u001b[0mmax\u001b[0m\u001b[0;34m(\u001b[0m\u001b[0mcurrent_tree\u001b[0m\u001b[0;34m)\u001b[0m \u001b[0;34m+\u001b[0m \u001b[0;36m1\u001b[0m\u001b[0;34m\u001b[0m\u001b[0m\n",
      "\u001b[0;32m~/research/qsr/bottom_up/all.py\u001b[0m in \u001b[0;36mgov_of_proposed_is_verb_and_current_compression_no_verb\u001b[0;34m(s, vertex, T)\u001b[0m\n\u001b[1;32m     92\u001b[0m \u001b[0;34m\u001b[0m\u001b[0m\n\u001b[1;32m     93\u001b[0m \u001b[0;32mdef\u001b[0m \u001b[0mgov_of_proposed_is_verb_and_current_compression_no_verb\u001b[0m\u001b[0;34m(\u001b[0m\u001b[0ms\u001b[0m\u001b[0;34m,\u001b[0m \u001b[0mvertex\u001b[0m\u001b[0;34m,\u001b[0m \u001b[0mT\u001b[0m\u001b[0;34m)\u001b[0m\u001b[0;34m:\u001b[0m\u001b[0;34m\u001b[0m\u001b[0m\n\u001b[0;32m---> 94\u001b[0;31m     \u001b[0;32mif\u001b[0m \u001b[0mgov_is_verb\u001b[0m\u001b[0;34m(\u001b[0m\u001b[0mvertex\u001b[0m\u001b[0;34m,\u001b[0m \u001b[0ms\u001b[0m\u001b[0;34m)\u001b[0m \u001b[0;32mand\u001b[0m \u001b[0;32mnot\u001b[0m \u001b[0mcurrent_compression_has_verb\u001b[0m\u001b[0;34m(\u001b[0m\u001b[0ms\u001b[0m\u001b[0;34m=\u001b[0m\u001b[0ms\u001b[0m\u001b[0;34m,\u001b[0m \u001b[0mT\u001b[0m\u001b[0;34m=\u001b[0m\u001b[0mT\u001b[0m\u001b[0;34m)\u001b[0m\u001b[0;34m:\u001b[0m\u001b[0;34m\u001b[0m\u001b[0m\n\u001b[0m\u001b[1;32m     95\u001b[0m         \u001b[0;32mreturn\u001b[0m \u001b[0;32mTrue\u001b[0m\u001b[0;34m\u001b[0m\u001b[0m\n\u001b[1;32m     96\u001b[0m     \u001b[0;32melse\u001b[0m\u001b[0;34m:\u001b[0m\u001b[0;34m\u001b[0m\u001b[0m\n",
      "\u001b[0;32m~/research/qsr/bottom_up/all.py\u001b[0m in \u001b[0;36mcurrent_compression_has_verb\u001b[0;34m(s, T)\u001b[0m\n\u001b[1;32m     89\u001b[0m \u001b[0;32mdef\u001b[0m \u001b[0mcurrent_compression_has_verb\u001b[0m\u001b[0;34m(\u001b[0m\u001b[0ms\u001b[0m\u001b[0;34m,\u001b[0m \u001b[0mT\u001b[0m\u001b[0;34m)\u001b[0m\u001b[0;34m:\u001b[0m\u001b[0;34m\u001b[0m\u001b[0m\n\u001b[1;32m     90\u001b[0m     \u001b[0mcurrent_pos\u001b[0m \u001b[0;34m=\u001b[0m \u001b[0;34m{\u001b[0m\u001b[0m_\u001b[0m\u001b[0;34m[\u001b[0m\u001b[0;34m\"pos\"\u001b[0m\u001b[0;34m]\u001b[0m\u001b[0;34m[\u001b[0m\u001b[0;36m0\u001b[0m\u001b[0;34m]\u001b[0m\u001b[0;34m.\u001b[0m\u001b[0mlower\u001b[0m\u001b[0;34m(\u001b[0m\u001b[0;34m)\u001b[0m \u001b[0;32mfor\u001b[0m \u001b[0m_\u001b[0m \u001b[0;32min\u001b[0m \u001b[0ms\u001b[0m\u001b[0;34m[\u001b[0m\u001b[0;34m\"tokens\"\u001b[0m\u001b[0;34m]\u001b[0m \u001b[0;32mif\u001b[0m \u001b[0m_\u001b[0m\u001b[0;34m[\u001b[0m\u001b[0;34m\"index\"\u001b[0m\u001b[0;34m]\u001b[0m \u001b[0;32min\u001b[0m \u001b[0mT\u001b[0m\u001b[0;34m}\u001b[0m\u001b[0;34m\u001b[0m\u001b[0m\n\u001b[0;32m---> 91\u001b[0;31m     \u001b[0;32mreturn\u001b[0m \u001b[0many\u001b[0m\u001b[0;34m(\u001b[0m\u001b[0mi\u001b[0m \u001b[0;34m==\u001b[0m \u001b[0;34m\"v\"\u001b[0m \u001b[0;32mfor\u001b[0m \u001b[0mi\u001b[0m \u001b[0;32min\u001b[0m \u001b[0mcurrent_pos\u001b[0m\u001b[0;34m)\u001b[0m\u001b[0;34m\u001b[0m\u001b[0m\n\u001b[0m\u001b[1;32m     92\u001b[0m \u001b[0;34m\u001b[0m\u001b[0m\n\u001b[1;32m     93\u001b[0m \u001b[0;32mdef\u001b[0m \u001b[0mgov_of_proposed_is_verb_and_current_compression_no_verb\u001b[0m\u001b[0;34m(\u001b[0m\u001b[0ms\u001b[0m\u001b[0;34m,\u001b[0m \u001b[0mvertex\u001b[0m\u001b[0;34m,\u001b[0m \u001b[0mT\u001b[0m\u001b[0;34m)\u001b[0m\u001b[0;34m:\u001b[0m\u001b[0;34m\u001b[0m\u001b[0m\n",
      "\u001b[0;32m~/research/qsr/bottom_up/all.py\u001b[0m in \u001b[0;36m<genexpr>\u001b[0;34m(.0)\u001b[0m\n\u001b[1;32m     89\u001b[0m \u001b[0;32mdef\u001b[0m \u001b[0mcurrent_compression_has_verb\u001b[0m\u001b[0;34m(\u001b[0m\u001b[0ms\u001b[0m\u001b[0;34m,\u001b[0m \u001b[0mT\u001b[0m\u001b[0;34m)\u001b[0m\u001b[0;34m:\u001b[0m\u001b[0;34m\u001b[0m\u001b[0m\n\u001b[1;32m     90\u001b[0m     \u001b[0mcurrent_pos\u001b[0m \u001b[0;34m=\u001b[0m \u001b[0;34m{\u001b[0m\u001b[0m_\u001b[0m\u001b[0;34m[\u001b[0m\u001b[0;34m\"pos\"\u001b[0m\u001b[0;34m]\u001b[0m\u001b[0;34m[\u001b[0m\u001b[0;36m0\u001b[0m\u001b[0;34m]\u001b[0m\u001b[0;34m.\u001b[0m\u001b[0mlower\u001b[0m\u001b[0;34m(\u001b[0m\u001b[0;34m)\u001b[0m \u001b[0;32mfor\u001b[0m \u001b[0m_\u001b[0m \u001b[0;32min\u001b[0m \u001b[0ms\u001b[0m\u001b[0;34m[\u001b[0m\u001b[0;34m\"tokens\"\u001b[0m\u001b[0;34m]\u001b[0m \u001b[0;32mif\u001b[0m \u001b[0m_\u001b[0m\u001b[0;34m[\u001b[0m\u001b[0;34m\"index\"\u001b[0m\u001b[0;34m]\u001b[0m \u001b[0;32min\u001b[0m \u001b[0mT\u001b[0m\u001b[0;34m}\u001b[0m\u001b[0;34m\u001b[0m\u001b[0m\n\u001b[0;32m---> 91\u001b[0;31m     \u001b[0;32mreturn\u001b[0m \u001b[0many\u001b[0m\u001b[0;34m(\u001b[0m\u001b[0mi\u001b[0m \u001b[0;34m==\u001b[0m \u001b[0;34m\"v\"\u001b[0m \u001b[0;32mfor\u001b[0m \u001b[0mi\u001b[0m \u001b[0;32min\u001b[0m \u001b[0mcurrent_pos\u001b[0m\u001b[0;34m)\u001b[0m\u001b[0;34m\u001b[0m\u001b[0m\n\u001b[0m\u001b[1;32m     92\u001b[0m \u001b[0;34m\u001b[0m\u001b[0m\n\u001b[1;32m     93\u001b[0m \u001b[0;32mdef\u001b[0m \u001b[0mgov_of_proposed_is_verb_and_current_compression_no_verb\u001b[0m\u001b[0;34m(\u001b[0m\u001b[0ms\u001b[0m\u001b[0;34m,\u001b[0m \u001b[0mvertex\u001b[0m\u001b[0;34m,\u001b[0m \u001b[0mT\u001b[0m\u001b[0;34m)\u001b[0m\u001b[0;34m:\u001b[0m\u001b[0;34m\u001b[0m\u001b[0m\n",
      "\u001b[0;31mKeyboardInterrupt\u001b[0m: "
     ]
    }
   ],
   "source": [
    "from bottom_up.all import get_labels_and_features\n",
    "from bottom_up.all import get_governor\n",
    "\n",
    "import json\n",
    "import pickle\n",
    "import numpy as np\n",
    "from bottom_up.all import get_lr\n",
    "from bottom_up.all import get_dependents\n",
    "from bottom_up.all import get_f1\n",
    "from bottom_up.all import featurize_ultra_local\n",
    "from bottom_up.all import featurize_parent_proposal\n",
    "from bottom_up.all import featurize_child_proposal\n",
    "from sklearn.linear_model import LogisticRegression\n",
    "from sklearn.feature_extraction import DictVectorizer\n",
    "from code.printers import pretty_print_conl\n",
    "from bottom_up.all import len_tree\n",
    "\n",
    "training_paths = [_ for _ in open(\"training.paths\")]\n",
    "validation_paths = [_ for _ in open(\"validation.paths\")]\n",
    "\n",
    "\n",
    "vectorizer = DictVectorizer(sparse=True)\n",
    "\n",
    "train_features, train_labels = get_labels_and_features(training_paths)\n",
    "\n",
    "X_train = vectorizer.fit_transform(train_features)\n",
    "\n",
    "y_train = np.asarray(train_labels)\n",
    "\n",
    "val_features, val_labels = get_labels_and_features(validation_paths)\n",
    "\n",
    "X_val = vectorizer.transform(val_features)\n",
    "\n",
    "y_val = np.asarray(val_labels)\n",
    "\n",
    "clf = LogisticRegression(random_state=0,\n",
    "                         solver='lbfgs',\n",
    "                         C=.5,\n",
    "                         multi_class='ovr').fit(X_train, y_train)\n",
    "\n",
    "print(clf.score(X_val,y_val))\n",
    "print(clf.score(X_train, y_train))"
   ]
  },
  {
   "cell_type": "code",
   "execution_count": 488,
   "metadata": {},
   "outputs": [
    {
     "name": "stdout",
     "output_type": "stream",
     "text": [
      "0.9894657919400187\n",
      "1405\n"
     ]
    }
   ],
   "source": [
    "confusion = []\n",
    "from collections import Counter\n",
    "from collections import defaultdict\n",
    "all_vals = defaultdict(list)\n",
    "scr = clf.predict(X_train)\n",
    "o = 0\n",
    "h = 0\n",
    "tot = []\n",
    "big_list = []\n",
    "big_list_sentences = []\n",
    "\n",
    "for paths in training_paths:\n",
    "    paths=json.loads(paths)\n",
    "    s = paths[\"sentence\"]\n",
    "    for p in paths[\"paths\"]:\n",
    "        current_tree, vertex, decision = p\n",
    "        if vertex != 0:  \n",
    "            big_list.append(p)\n",
    "            big_list_sentences.append(s)\n",
    "        \n",
    "\n",
    "for ino, i in enumerate(train_features):\n",
    "    if i[\"disconnected\"]:\n",
    "        o += 1\n",
    "        if scr[ino] == y_train[ino]:\n",
    "            h += 1\n",
    "        else:\n",
    "            tot.append((scr[ino], y_train[ino], big_list_sentences[ino], big_list[ino]))\n",
    "print(h/(len(tot) + h))\n",
    "print(len(tot))"
   ]
  },
  {
   "cell_type": "code",
   "execution_count": 505,
   "metadata": {},
   "outputs": [
    {
     "name": "stdout",
     "output_type": "stream",
     "text": [
      "defaultdict(<class 'int'>, {'det': 1, 'amod': 1, 'compound': 2, 'case': 1})\n",
      "0\n",
      "1405\n",
      "5\n"
     ]
    }
   ],
   "source": [
    "hits = 0\n",
    "govs = defaultdict(int)\n",
    "for t in tot[500:]:\n",
    "\n",
    "    pred, was, s, path = t\n",
    "    current_tree, vertex, decision = path\n",
    "    current_tree.sort()\n",
    "    governed = [_[\"dep\"] for _ in s[\"basicDependencies\"] if _[\"dependent\"] == vertex]\n",
    "    for g in governed:\n",
    "        govs[g] += 1\n",
    "    if g == \"case\":\n",
    "        break\n",
    "        \n",
    "print(govs)\n",
    "print(hits)\n",
    "print(len(tot))\n",
    "print(sum(govs.values()))"
   ]
  },
  {
   "cell_type": "code",
   "execution_count": 506,
   "metadata": {},
   "outputs": [
    {
     "name": "stdout",
     "output_type": "stream",
     "text": [
      "[12, 13, 14, 15, 16, 17] 20 0 1\n",
      "1\tChairman\t<-nsubj-\tasserts\n",
      "2\tof\t<-case-\tAksa\n",
      "3\tenergy\t<-compound-\tAksa\n",
      "4\tcompany\t<-compound-\tAksa\n",
      "5\tAksa\t<-nmod-\tChairman\n",
      "6\t,\t<-punct-\tChairman\n",
      "7\tCemil\t<-compound-\tKazanci\n",
      "8\tKazanci\t<-appos-\tChairman\n",
      "9\t,\t<-punct-\tChairman\n",
      "10\tasserts\t<-ROOT-\tROOT\n",
      "11\tthat\t<-mark-\tinterested\n",
      "12\tAksa\t<-nsubj-\tinterested\n",
      "13\tmay\t<-aux-\tinterested\n",
      "14\tbe\t<-cop-\tinterested\n",
      "15\tinterested\t<-ccomp-\tasserts\n",
      "16\tin\t<-mark-\tplacing\n",
      "17\tplacing\t<-advcl-\tinterested\n",
      "18\ta\t<-det-\tbid\n",
      "19\tbid\t<-dobj-\tplacing\n",
      "20\tin\t<-case-\ttender\n",
      "21\tthe\t<-det-\ttender\n",
      "22\tnew\t<-amod-\ttender\n",
      "23\tnuclear\t<-amod-\ttender\n",
      "24\tpower\t<-compound-\ttender\n",
      "25\tplant\t<-compound-\ttender\n",
      "26\ttender\t<-nmod-\tbid\n",
      "27\t.\t<-punct-\tasserts\n",
      "[12, 13, 14, 15, 16, 17, 20, 21, 22, 23, 24, 25, 26]\n"
     ]
    }
   ],
   "source": [
    "print(current_tree, vertex, pred, was)\n",
    "pretty_print_conl(s)\n",
    "print(s[\"compression_indexes\"])"
   ]
  }
 ],
 "metadata": {
  "kernelspec": {
   "display_name": "Python 3",
   "language": "python",
   "name": "python3"
  },
  "language_info": {
   "codemirror_mode": {
    "name": "ipython",
    "version": 3
   },
   "file_extension": ".py",
   "mimetype": "text/x-python",
   "name": "python",
   "nbconvert_exporter": "python",
   "pygments_lexer": "ipython3",
   "version": "3.6.2"
  }
 },
 "nbformat": 4,
 "nbformat_minor": 2
}
