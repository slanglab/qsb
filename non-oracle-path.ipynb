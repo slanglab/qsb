{
 "cells": [
  {
   "cell_type": "code",
   "execution_count": 2,
   "metadata": {},
   "outputs": [
    {
     "name": "stdout",
     "output_type": "stream",
     "text": [
      "0.8576927098089177\n"
     ]
    }
   ],
   "source": [
    "import json\n",
    "import numpy as np\n",
    "\n",
    "from bottom_up.all import train_clf, runtime_path_wild_frontier, get_f1, pick_l2r_connected\n",
    "\n",
    "\n",
    "clf, vectorizer = train_clf()\n",
    "\n",
    "tot = 0\n",
    "for pno, paths in enumerate(open(\"validation.paths\", \"r\")):\n",
    "    paths=json.loads(paths)\n",
    "    sentence = paths[\"sentence\"]\n",
    "    predicted = runtime_path_wild_frontier(sentence, pi=pick_l2r_connected, clf=clf, vectorizer=vectorizer)\n",
    "    f1s = get_f1(predicted, sentence)\n",
    "    tot += f1s\n",
    "print(tot/(pno + 1))"
   ]
  },
  {
   "cell_type": "code",
   "execution_count": 4,
   "metadata": {},
   "outputs": [
    {
     "name": "stdout",
     "output_type": "stream",
     "text": [
      "5.96 ms ± 399 µs per loop (mean ± std. dev. of 7 runs, 100 loops each)\n"
     ]
    }
   ],
   "source": [
    "%timeit runtime_path_wild_frontier(sentence, pi=pick_l2r_connected, clf=clf, vectorizer=vectorizer)"
   ]
  },
  {
   "cell_type": "code",
   "execution_count": 186,
   "metadata": {},
   "outputs": [
    {
     "name": "stdout",
     "output_type": "stream",
     "text": [
      "0.7480967917346384\n",
      "1853\n"
     ]
    }
   ],
   "source": [
    "\n",
    "### this is just debugging code\n",
    "\n",
    "confusion = []\n",
    "from collections import Counter\n",
    "from collections import defaultdict\n",
    "all_vals = defaultdict(list)\n",
    "scr = clf.predict(X_train)\n",
    "o = 0\n",
    "h = 0\n",
    "tot = []\n",
    "big_list = []\n",
    "big_list_sentences = []\n",
    "\n",
    "for paths in training_paths:\n",
    "    paths=json.loads(paths)\n",
    "    s = paths[\"sentence\"]\n",
    "    for p in paths[\"paths\"]:\n",
    "        current_tree, vertex, decision = p\n",
    "        if vertex != 0:  \n",
    "            big_list.append(p)\n",
    "            big_list_sentences.append(s)\n",
    "        \n",
    "\n",
    "for ino, i in enumerate(train_features):\n",
    "    if 'dep' in i and i[\"dep\"] == \"amod\":\n",
    "        o += 1\n",
    "        if scr[ino] == y_train[ino]:\n",
    "            h += 1\n",
    "        else:\n",
    "            tot.append((scr[ino], y_train[ino], big_list_sentences[ino],train_features[ino], big_list[ino]))\n",
    "print(h/(len(tot) + h))\n",
    "print(len(tot))\n",
    "\n",
    "\n",
    "hits = 0\n",
    "govs = defaultdict(int)\n",
    "import string\n",
    "punct = [_ for _ in string.punctuation]\n",
    "alls= []\n",
    "for t in tot:\n",
    "    pred, was, s, feats, path = t\n",
    "    current_tree, vertex, decision = path\n",
    "    current_tree.sort()\n",
    "    governed = [_[\"dep\"] for _ in s[\"basicDependencies\"] if _[\"dependent\"] == vertex]\n",
    "    for g in governed:\n",
    "        govs[g] += 1\n",
    "    if(pred == 0 and was == 1):\n",
    "        print(feats,pred,was)\n",
    "        \n",
    "        \n",
    "Counter(alls).most_common()\n",
    "#print(hits)\n",
    "#print(len(tot))\n",
    "#print(sum(govs.values()))"
   ]
  }
 ],
 "metadata": {
  "kernelspec": {
   "display_name": "Python 3",
   "language": "python",
   "name": "python3"
  }
 },
 "nbformat": 4,
 "nbformat_minor": 2
}
