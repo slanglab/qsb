{
 "cells": [
  {
   "cell_type": "code",
   "execution_count": 1,
   "metadata": {},
   "outputs": [],
   "source": [
    "import json\n",
    "import numpy as np\n",
    "from bottom_up.all import pick_bfs_connected\n",
    "from bottom_up.all import get_lr\n",
    "from bottom_up.all import get_dependents\n",
    "from bottom_up.all import get_f1\n",
    "from bottom_up.all import featurize_ultra_local\n",
    "from bottom_up.all import get_local_feats\n",
    "from bottom_up.all import get_global_feats\n",
    "from bottom_up.all import featurize_parent_proposal\n",
    "from bottom_up.all import pick_l2r_connected\n",
    "from bottom_up.all import featurize_child_proposal\n",
    "from sklearn.linear_model import LogisticRegression\n",
    "from sklearn.feature_extraction import DictVectorizer\n",
    "from code.printers import pretty_print_conl\n",
    "from bottom_up.all import pick_bfs_connected\n",
    "from bottom_up.all import len_tree\n",
    "%load_ext autoreload\n",
    "\n",
    "%autoreload 2"
   ]
  },
  {
   "cell_type": "code",
   "execution_count": 8,
   "metadata": {},
   "outputs": [
    {
     "name": "stderr",
     "output_type": "stream",
     "text": [
      "/Users/ahandler/.virtualenvs/p3/lib/python3.6/site-packages/sklearn/base.py:311: UserWarning: Trying to unpickle estimator LogisticRegression from version 0.20.2 when using version 0.19.1. This might lead to breaking code or invalid results. Use at your own risk.\n",
      "  UserWarning)\n",
      "/Users/ahandler/.virtualenvs/p3/lib/python3.6/site-packages/sklearn/base.py:311: UserWarning: Trying to unpickle estimator DictVectorizer from version 0.20.2 when using version 0.19.1. This might lead to breaking code or invalid results. Use at your own risk.\n",
      "  UserWarning)\n"
     ]
    }
   ],
   "source": [
    "import pickle\n",
    "with open(\"a\", \"rb\") as inf:\n",
    "    dt = pickle.load(inf)\n",
    "    \n",
    "clf, vectorizer = dt"
   ]
  },
  {
   "cell_type": "code",
   "execution_count": 109,
   "metadata": {},
   "outputs": [
    {
     "name": "stdout",
     "output_type": "stream",
     "text": [
      "0.8497676503318201\n"
     ]
    }
   ],
   "source": [
    "def pick_at_random(l, **kwargs):\n",
    "    return random.sample(l, 1)[0]\n",
    "\n",
    "from code.treeops import bfs\n",
    "from bottom_up.all import pick_bfs\n",
    "from bottom_up.all import get_dependents_and_governors\n",
    "import random\n",
    "\n",
    "def runtime_path_wild_frontier(sentence, pi, clf, vectorizer, verbose=False):\n",
    "    T = {i for i in sentence[\"q\"]}\n",
    "    F = set()\n",
    "    \n",
    "    # init frontier\n",
    "    for v in T:\n",
    "        for i in sentence[\"tokens\"]:\n",
    "            F.add(i[\"index\"])\n",
    "\n",
    "    d, heads, c = bfs(g=sentence, hop_s=0) \n",
    "    while len(F) > 0:\n",
    "        vertex = pi(F=F, d=d, T=T, s=sentence)\n",
    "\n",
    "        if vertex != 0: # bug here?\n",
    "            feats = get_local_feats(vertex=vertex, sentence=sentence, d=d, current_tree=T)\n",
    "            feats = get_global_feats(sentence=sentence, feats=feats, vertex=vertex, current_tree=T)\n",
    "\n",
    "            X = vectorizer.transform([feats])\n",
    "            pred = clf.predict_proba(X)[0]\n",
    "            y = clf.predict(X)[0]\n",
    "\n",
    "            if y == 1:\n",
    "                T.add(vertex)\n",
    "                if vertex != 0:\n",
    "                    for i in get_dependents_and_governors(vertex, sentence, T):\n",
    "                        if i not in T and i is not None:\n",
    "                            F.add(i)\n",
    "                else:\n",
    "                    for i in get_dependents(sentence, vertex):\n",
    "                        if i[\"dependent\"] not in T and i is not None:\n",
    "                            F.add(i)\n",
    "        F.remove(vertex)\n",
    "\n",
    "    return T\n",
    "\n",
    "tot = 0\n",
    "for pno, paths in enumerate(validation_paths):\n",
    "    paths=json.loads(paths)\n",
    "    sentence = paths[\"sentence\"]\n",
    "    predicted = runtime_path_wild_frontier(sentence, pi=pick_l2r_connected, clf=clf, vectorizer=vectorizer)\n",
    "    f1s = get_f1(predicted, sentence)\n",
    "    tot += f1s\n",
    "print(tot/len(validation_paths))"
   ]
  },
  {
   "cell_type": "code",
   "execution_count": 108,
   "metadata": {},
   "outputs": [
    {
     "name": "stdout",
     "output_type": "stream",
     "text": [
      "0.9446380484714082\n",
      "0.95125013733461\n"
     ]
    }
   ],
   "source": [
    "from bottom_up.all import get_labels_and_features\n",
    "from bottom_up.all import get_governor\n",
    "\n",
    "import json\n",
    "import pickle\n",
    "import numpy as np\n",
    "from bottom_up.all import get_lr\n",
    "from bottom_up.all import get_dependents\n",
    "from bottom_up.all import get_f1\n",
    "from bottom_up.all import featurize_ultra_local\n",
    "from bottom_up.all import featurize_parent_proposal\n",
    "from bottom_up.all import featurize_child_proposal\n",
    "from sklearn.linear_model import LogisticRegression\n",
    "from sklearn.feature_extraction import DictVectorizer\n",
    "from code.printers import pretty_print_conl\n",
    "from bottom_up.all import len_tree\n",
    "\n",
    "training_paths = [_ for _ in open(\"training.paths\")]\n",
    "validation_paths = [_ for _ in open(\"validation.paths\")]\n",
    "\n",
    "\n",
    "vectorizer = DictVectorizer(sparse=True)\n",
    "\n",
    "train_features, train_labels = get_labels_and_features(training_paths)\n",
    "\n",
    "X_train = vectorizer.fit_transform(train_features)\n",
    "\n",
    "y_train = np.asarray(train_labels)\n",
    "\n",
    "val_features, val_labels = get_labels_and_features(validation_paths)\n",
    "\n",
    "X_val = vectorizer.transform(val_features)\n",
    "\n",
    "y_val = np.asarray(val_labels)\n",
    "\n",
    "clf = LogisticRegression(random_state=0,\n",
    "                         solver='lbfgs',\n",
    "                         C=.05,\n",
    "                         multi_class='ovr').fit(X_train, y_train)\n",
    "\n",
    "print(clf.score(X_val,y_val))\n",
    "print(clf.score(X_train, y_train))"
   ]
  },
  {
   "cell_type": "code",
   "execution_count": 92,
   "metadata": {},
   "outputs": [
    {
     "name": "stdout",
     "output_type": "stream",
     "text": [
      "0.8790860573715811\n",
      "725\n"
     ]
    }
   ],
   "source": [
    "confusion = []\n",
    "from collections import Counter\n",
    "from collections import defaultdict\n",
    "all_vals = defaultdict(list)\n",
    "scr = clf.predict(X_train)\n",
    "o = 0\n",
    "h = 0\n",
    "tot = []\n",
    "big_list = []\n",
    "big_list_sentences = []\n",
    "\n",
    "for paths in training_paths:\n",
    "    paths=json.loads(paths)\n",
    "    s = paths[\"sentence\"]\n",
    "    for p in paths[\"paths\"]:\n",
    "        current_tree, vertex, decision = p\n",
    "        if vertex != 0:  \n",
    "            big_list.append(p)\n",
    "            big_list_sentences.append(s)\n",
    "        \n",
    "\n",
    "for ino, i in enumerate(train_features):\n",
    "    if 'dep' in i and i[\"dep\"] == \"dobj\":\n",
    "        o += 1\n",
    "        if scr[ino] == y_train[ino]:\n",
    "            h += 1\n",
    "        else:\n",
    "            tot.append((scr[ino], y_train[ino], big_list_sentences[ino],train_features[ino], big_list[ino]))\n",
    "print(h/(len(tot) + h))\n",
    "print(len(tot))"
   ]
  },
  {
   "cell_type": "code",
   "execution_count": 87,
   "metadata": {},
   "outputs": [
    {
     "name": "stdout",
     "output_type": "stream",
     "text": [
      "defaultdict(<class 'int'>, {'dobj': 1})\n"
     ]
    }
   ],
   "source": [
    "hits = 0\n",
    "govs = defaultdict(int)\n",
    "for t in tot[400:450]:\n",
    "    pred, was, s, feats, path = t\n",
    "    current_tree, vertex, decision = path\n",
    "    current_tree.sort()\n",
    "    governed = [_[\"dep\"] for _ in s[\"basicDependencies\"] if _[\"dependent\"] == vertex]\n",
    "    for g in governed:\n",
    "        govs[g] += 1\n",
    "    if g == \"dobj\":\n",
    "        break\n",
    "        \n",
    "        \n",
    "        \n",
    "print(govs)\n",
    "#print(hits)\n",
    "#print(len(tot))\n",
    "#print(sum(govs.values()))"
   ]
  },
  {
   "cell_type": "code",
   "execution_count": 88,
   "metadata": {},
   "outputs": [
    {
     "name": "stdout",
     "output_type": "stream",
     "text": [
      "[1, 2, 3, 4, 5, 11] 9 1 0 {'dep': 'dobj', 'governorGloss': 'finished', 'dependentGloss': 'yards', 'type': 'CHILD', 'position': 0.34615384615384615, 'reportage_dobj': False, 'parent_label': 'dobjfinished', 'child_label': 'dobjyards', 'ner': 'O', 'pos': 'NNS', 'depth': 2, 'disconnected': 0, 'over_r': False, 'remaining': 0.6714285714285714}\n",
      "1\tOakdale\t<-compound-\tstudents\n",
      "2\tElementary\t<-compound-\tstudents\n",
      "3\tSchool\t<-compound-\tstudents\n",
      "4\tstudents\t<-nsubj-\tfinished\n",
      "5\tfinished\t<-ROOT-\tROOT\n",
      "6\tthe\t<-det-\tyards\n",
      "7\tlast\t<-amod-\tyards\n",
      "8\t385\t<-nummod-\tyards\n",
      "9\tyards\t<-dobj-\tfinished\n",
      "10\t,\t<-punct-\tyards\n",
      "11\taka\t<-appos-\tyards\n",
      "12\tthe\t<-det-\t.2\n",
      "13\t.2\t<-dep-\taka\n",
      "14\tof\t<-case-\tmiles\n",
      "15\tthe\t<-det-\tmiles\n",
      "16\t26.2\t<-nummod-\tmiles\n",
      "17\tmiles\t<-nmod-\t.2\n",
      "18\t,\t<-punct-\t.2\n",
      "19\tof\t<-case-\tmarathon\n",
      "20\tthe\t<-det-\tmarathon\n",
      "21\tmarathon\t<-nmod-\t.2\n",
      "22\tthey\t<-nsubj-\tstarted\n",
      "23\tstarted\t<-acl:relcl-\tmarathon\n",
      "24\tin\t<-case-\tApril\n",
      "25\tApril\t<-nmod-\tstarted\n",
      "26\t.\t<-punct-\tfinished\n",
      "[1, 2, 3, 4, 5, 11, 12, 13, 19, 20, 21]\n"
     ]
    }
   ],
   "source": [
    "print(current_tree, vertex, pred, was, feats)\n",
    "pretty_print_conl(s, \"basicDependencies\")\n",
    "print(s[\"compression_indexes\"])"
   ]
  }
 ],
 "metadata": {
  "kernelspec": {
   "display_name": "Python 3",
   "language": "python",
   "name": "python3"
  },
  "language_info": {
   "codemirror_mode": {
    "name": "ipython",
    "version": 3
   },
   "file_extension": ".py",
   "mimetype": "text/x-python",
   "name": "python",
   "nbconvert_exporter": "python",
   "pygments_lexer": "ipython3",
   "version": "3.6.2"
  }
 },
 "nbformat": 4,
 "nbformat_minor": 2
}
