{
 "cells": [
  {
   "cell_type": "code",
   "execution_count": 15,
   "metadata": {},
   "outputs": [],
   "source": [
    "import json\n",
    "import numpy as np\n",
    "\n",
    "\n",
    "\n",
    "POS = {\n",
    "\"proper-noun\":[\"NNP\", \"NNPS\"], # proper-noun (40.2%)\n",
    "\"noun\":[\"NN\", \"NNP\"], #2601 (30.9%)\n",
    "\"adjective\":[\"JJ\", \"JJR\", \"JJS\"], #599 (7.1%)\n",
    "\"preposition\": [\"IN\"] # (3.7%)\n",
    "}\n",
    "\n",
    "val_paths = \"validation.paths\"\n",
    "\n",
    "lns = [json.loads(i) for i in open(val_paths)]\n",
    "\n",
    "sentence = lns[5][\"sentence\"]"
   ]
  },
  {
   "cell_type": "code",
   "execution_count": 220,
   "metadata": {},
   "outputs": [
    {
     "data": {
      "text/plain": [
       "Counter({2: 1702, 1: 1681, 5: 206, 3: 984, 6: 54, 4: 373})"
      ]
     },
     "execution_count": 220,
     "metadata": {},
     "output_type": "execute_result"
    }
   ],
   "source": [
    "def draw_query_len():\n",
    "\n",
    "    '''\n",
    "    draw a query length\n",
    "    \n",
    "    distribution is based on \"Real life, real users, and real needs: a study and analysis of user queries on the web\"\n",
    "    \n",
    "    https://faculty.ist.psu.edu/jjansen/academic/pubs/ipm98/ipm98.pdf\n",
    "    '''\n",
    "    empirical = {\n",
    "    6:.01,\n",
    "    5:.04,\n",
    "    4:.07,\n",
    "    3:.18,\n",
    "    2:.31,\n",
    "    1:.31,\n",
    "    0:0.08   # all other query lengths\n",
    "    }\n",
    "\n",
    "\n",
    "    items = list(empirical.items())\n",
    "    items.sort(key=lambda x:x[0])\n",
    "    p = [_[1] for _ in items]\n",
    "\n",
    "    ou = 0\n",
    "    while ou == 0:\n",
    "        ou = np.where(np.random.multinomial(1, p, (1,))[0] > 0)[0]\n",
    "        ou = ou[0]\n",
    "    return ou\n",
    "\n",
    "out = [draw_query_len() for _ in range(5000)]\n",
    "Counter(out)\n",
    "#1670/5000"
   ]
  }
 ],
 "metadata": {
  "kernelspec": {
   "display_name": "Python 3",
   "language": "python",
   "name": "python3"
  },
  "language_info": {
   "codemirror_mode": {
    "name": "ipython",
    "version": 3
   },
   "file_extension": ".py",
   "mimetype": "text/x-python",
   "name": "python",
   "nbconvert_exporter": "python",
   "pygments_lexer": "ipython3",
   "version": "3.6.2"
  }
 },
 "nbformat": 4,
 "nbformat_minor": 2
}
